{
  "cells": [
    {
      "cell_type": "markdown",
      "metadata": {
        "id": "WIoPcR3jnk5m"
      },
      "source": [
        "[12/09/2022] **Penulisan ini diupdate** - Pembaruan isi dokumen dan materi pembelajaran."
      ]
    },
    {
      "cell_type": "markdown",
      "metadata": {
        "id": "PImdsoF-u4bw"
      },
      "source": [
        "## **BAGIAN 2: Exploratory Data Analysis**\n",
        "\n",
        "Salah satu fungsi Pandas yaitu melakukan load data dari CSV atau Excel file. Syntax yang digunakan untuk melakukan operasi tersebut, yaitu:\n",
        "\n",
        "```python\n",
        "# Membaca csv\n",
        "variable_name = pd.read_csv(\"name_file.csv\")\n",
        "\n",
        "# Membaca xlsx\n",
        "variable_name = pd.read_excel(\"name_file.xlsx\")\n",
        "```\n",
        "\n",
        "\n",
        "\n"
      ]
    },
    {
      "cell_type": "code",
      "execution_count": null,
      "metadata": {
        "id": "7FHFq0PXnfJO"
      },
      "outputs": [],
      "source": [
        "# Melakukan import data\n",
        "import pandas as pd\n",
        "order_df = pd.read_csv(\"https://storage.googleapis.com/dqlab-dataset/order.csv\")"
      ]
    },
    {
      "cell_type": "markdown",
      "metadata": {
        "id": "DoFi20cuxNaN"
      },
      "source": [
        "Setelah melakukan proses loading dataframe ke dalam Python. Hal selanjutnya sebelum memulai analisis tentunya mengerti struktur dataset tersebut. Sehingga langkah selanjutnya dari pre - analisis biasanya dilakukan untuk:\n",
        "\n",
        "1. melihat struktur data frame,\n",
        "2. melihat preview data dari dataframe tersebut, dan\n",
        "3. membuat summary data sederhana dari dataset."
      ]
    },
    {
      "cell_type": "markdown",
      "metadata": {
        "id": "aF9z-Irwxjd0"
      },
      "source": [
        "**Melihat struktur kolom dan baris dari data frame**\n",
        "\n",
        "Hal pertama dalam mengerti struktur dari dataframe adalah informasi mengenai berapa size dari dataframe yang akan digunakan termasuk berapa jumlah kolom dan jumlah baris data frame tersebut.\n",
        "\n",
        "Dalam kasus ini, aku dapat menggunakan attribute .shape pada suatu dataframe. Syntaxnya dinyatakan dengan:\n",
        "\n",
        "```python\n",
        "print(variable_name.shape)\n",
        "```\n",
        "\n"
      ]
    },
    {
      "cell_type": "code",
      "execution_count": null,
      "metadata": {
        "colab": {
          "base_uri": "https://localhost:8080/"
        },
        "id": "LUtR0uTxTHlm",
        "outputId": "24555987-9801-47f7-f399-9a0c3fe04f1a"
      },
      "outputs": [
        {
          "name": "stdout",
          "output_type": "stream",
          "text": [
            "Ini merupakan shape (49999, 12)\n"
          ]
        }
      ],
      "source": [
        "# Melakukan pengecekan data\n",
        "print(\"Ini merupakan shape\", order_df.shape)"
      ]
    },
    {
      "cell_type": "markdown",
      "metadata": {
        "id": "gWYe3g2W0lF_"
      },
      "source": [
        "**Melihat preview data dari data frame**\n",
        "\n",
        "Selanjutnya, untuk mendapatkan gambaran dari konten dataframe tersebut. Kita dapat menggunakan function head dan tail, dengan syntax:\n",
        "\n",
        "```python\n",
        "print(variable_name.head(jumlah_data))\n",
        "print(variable_name.tail(jumlah_data))\n",
        "```\n",
        "\n",
        "Jika **jumlah_data** pada function head dan tail dikosongkan maka secara default akan ditampilkan sebanyak 5 (lima) baris saja."
      ]
    },
    {
      "cell_type": "code",
      "execution_count": null,
      "metadata": {
        "colab": {
          "base_uri": "https://localhost:8080/",
          "height": 427
        },
        "id": "4TipBMo80KRz",
        "outputId": "fb3d3b41-6412-4bdf-a317-6176e0bb12f9"
      },
      "outputs": [
        {
          "data": {
            "text/html": [
              "\n",
              "  <div id=\"df-7761e7c0-4d70-48e9-8116-4341eee10805\">\n",
              "    <div class=\"colab-df-container\">\n",
              "      <div>\n",
              "<style scoped>\n",
              "    .dataframe tbody tr th:only-of-type {\n",
              "        vertical-align: middle;\n",
              "    }\n",
              "\n",
              "    .dataframe tbody tr th {\n",
              "        vertical-align: top;\n",
              "    }\n",
              "\n",
              "    .dataframe thead th {\n",
              "        text-align: right;\n",
              "    }\n",
              "</style>\n",
              "<table border=\"1\" class=\"dataframe\">\n",
              "  <thead>\n",
              "    <tr style=\"text-align: right;\">\n",
              "      <th></th>\n",
              "      <th>order_id</th>\n",
              "      <th>quantity</th>\n",
              "      <th>product_id</th>\n",
              "      <th>price</th>\n",
              "      <th>seller_id</th>\n",
              "      <th>freight_value</th>\n",
              "      <th>customer_id</th>\n",
              "      <th>order_status</th>\n",
              "      <th>purchase_date</th>\n",
              "      <th>payment_type</th>\n",
              "      <th>product_category_name</th>\n",
              "      <th>product_weight_gram</th>\n",
              "    </tr>\n",
              "  </thead>\n",
              "  <tbody>\n",
              "    <tr>\n",
              "      <th>0</th>\n",
              "      <td>2e7a8482f6fb09756ca50c10d7bfc047</td>\n",
              "      <td>2</td>\n",
              "      <td>f293394c72c9b5fafd7023301fc21fc2</td>\n",
              "      <td>1489000</td>\n",
              "      <td>1554a68530182680ad5c8b042c3ab563</td>\n",
              "      <td>28000</td>\n",
              "      <td>08c5351a6aca1c1589a38f244edeee9d</td>\n",
              "      <td>shipped</td>\n",
              "      <td>2016-09-05</td>\n",
              "      <td>virtual account</td>\n",
              "      <td>fashion</td>\n",
              "      <td>1800.0</td>\n",
              "    </tr>\n",
              "    <tr>\n",
              "      <th>1</th>\n",
              "      <td>2e7a8482f6fb09756ca50c10d7bfc047</td>\n",
              "      <td>1</td>\n",
              "      <td>c1488892604e4ba5cff5b4eb4d595400</td>\n",
              "      <td>1756000</td>\n",
              "      <td>1554a68530182680ad5c8b042c3ab563</td>\n",
              "      <td>45000</td>\n",
              "      <td>08c5351a6aca1c1589a38f244edeee9d</td>\n",
              "      <td>shipped</td>\n",
              "      <td>2016-09-05</td>\n",
              "      <td>virtual account</td>\n",
              "      <td>automotive</td>\n",
              "      <td>1400.0</td>\n",
              "    </tr>\n",
              "    <tr>\n",
              "      <th>2</th>\n",
              "      <td>e5fa5a7210941f7d56d0208e4e071d35</td>\n",
              "      <td>1</td>\n",
              "      <td>f3c2d01a84c947b078e32bbef0718962</td>\n",
              "      <td>1707000</td>\n",
              "      <td>a425f92c199eb576938df686728acd20</td>\n",
              "      <td>174000</td>\n",
              "      <td>683c54fc24d40ee9f8a6fc179fd9856c</td>\n",
              "      <td>canceled</td>\n",
              "      <td>2016-09-05</td>\n",
              "      <td>e-wallet</td>\n",
              "      <td>toys</td>\n",
              "      <td>700.0</td>\n",
              "    </tr>\n",
              "    <tr>\n",
              "      <th>3</th>\n",
              "      <td>3b697a20d9e427646d92567910af6d57</td>\n",
              "      <td>1</td>\n",
              "      <td>3ae08df6bcbfe23586dd431c40bddbb7</td>\n",
              "      <td>3071000</td>\n",
              "      <td>522620dcb18a6b31cd7bdf73665113a9</td>\n",
              "      <td>154000</td>\n",
              "      <td>355077684019f7f60a031656bd7262b8</td>\n",
              "      <td>delivered</td>\n",
              "      <td>2016-10-03</td>\n",
              "      <td>e-wallet</td>\n",
              "      <td>utilities</td>\n",
              "      <td>300.0</td>\n",
              "    </tr>\n",
              "    <tr>\n",
              "      <th>4</th>\n",
              "      <td>71303d7e93b399f5bcd537d124c0bcfa</td>\n",
              "      <td>1</td>\n",
              "      <td>d2998d7ced12f83f9b832f33cf6507b6</td>\n",
              "      <td>3833000</td>\n",
              "      <td>25e6ffe976bd75618accfe16cefcbd0d</td>\n",
              "      <td>147000</td>\n",
              "      <td>b106b360fe2ef8849fbbd056f777b4d5</td>\n",
              "      <td>canceled</td>\n",
              "      <td>2016-10-03</td>\n",
              "      <td>e-wallet</td>\n",
              "      <td>fashion</td>\n",
              "      <td>500.0</td>\n",
              "    </tr>\n",
              "    <tr>\n",
              "      <th>5</th>\n",
              "      <td>be5bc2f0da14d8071e2d45451ad119d9</td>\n",
              "      <td>1</td>\n",
              "      <td>fd7fd78fd3cbc1b0a6370a7909c0a629</td>\n",
              "      <td>1480000</td>\n",
              "      <td>f09b760d23495ac9a7e00d29b769007c</td>\n",
              "      <td>152000</td>\n",
              "      <td>7ec40b22510fdbea1b08921dd39e63d8</td>\n",
              "      <td>delivered</td>\n",
              "      <td>2016-10-03</td>\n",
              "      <td>e-wallet</td>\n",
              "      <td>electronics</td>\n",
              "      <td>400.0</td>\n",
              "    </tr>\n",
              "    <tr>\n",
              "      <th>6</th>\n",
              "      <td>0a0837a5eee9e7a9ce2b1fa831944d27</td>\n",
              "      <td>1</td>\n",
              "      <td>583916a5dae918f5e89baec139141c54</td>\n",
              "      <td>4489000</td>\n",
              "      <td>3481aa57cd91f9f9d3fa1fa12d9a3bf7</td>\n",
              "      <td>16000</td>\n",
              "      <td>4f3f778022aefa22b9f9e52d2c47edf3</td>\n",
              "      <td>delivered</td>\n",
              "      <td>2016-10-04</td>\n",
              "      <td>debit card</td>\n",
              "      <td>toys</td>\n",
              "      <td>3100.0</td>\n",
              "    </tr>\n",
              "    <tr>\n",
              "      <th>7</th>\n",
              "      <td>1ff217aa612f6cd7c4255c9bfe931c8b</td>\n",
              "      <td>1</td>\n",
              "      <td>33430c5c1027d812b5c62f778e5ee7f7</td>\n",
              "      <td>822000</td>\n",
              "      <td>4b1eaadf791bdbbad8c4a35b65236d52</td>\n",
              "      <td>58000</td>\n",
              "      <td>b3a9bf200375f53cc5c6991919c356fd</td>\n",
              "      <td>delivered</td>\n",
              "      <td>2016-10-04</td>\n",
              "      <td>credit card</td>\n",
              "      <td>automotive</td>\n",
              "      <td>200.0</td>\n",
              "    </tr>\n",
              "    <tr>\n",
              "      <th>8</th>\n",
              "      <td>22613579f7d11cc59c4347526fc3c79e</td>\n",
              "      <td>1</td>\n",
              "      <td>3ff81cd0e0861e991bb0106c03c113ca</td>\n",
              "      <td>3967000</td>\n",
              "      <td>86bb7c4b535e49a541baf3266b1c95b1</td>\n",
              "      <td>95000</td>\n",
              "      <td>53cc5d344077104b59d4f6836a90eb0b</td>\n",
              "      <td>delivered</td>\n",
              "      <td>2016-10-04</td>\n",
              "      <td>debit card</td>\n",
              "      <td>beauty</td>\n",
              "      <td>600.0</td>\n",
              "    </tr>\n",
              "    <tr>\n",
              "      <th>9</th>\n",
              "      <td>356b492aba2d1a7da886e54e0b6212b7</td>\n",
              "      <td>1</td>\n",
              "      <td>eba7488e1c67729f045ab43fac426f2e</td>\n",
              "      <td>4165000</td>\n",
              "      <td>620c87c171fb2a6dd6e8bb4dec959fc6</td>\n",
              "      <td>98000</td>\n",
              "      <td>68c74d748a55f9d29e6698f4b01a0df7</td>\n",
              "      <td>delivered</td>\n",
              "      <td>2016-10-04</td>\n",
              "      <td>credit card</td>\n",
              "      <td>automotive</td>\n",
              "      <td>610.0</td>\n",
              "    </tr>\n",
              "  </tbody>\n",
              "</table>\n",
              "</div>\n",
              "      <button class=\"colab-df-convert\" onclick=\"convertToInteractive('df-7761e7c0-4d70-48e9-8116-4341eee10805')\"\n",
              "              title=\"Convert this dataframe to an interactive table.\"\n",
              "              style=\"display:none;\">\n",
              "        \n",
              "  <svg xmlns=\"http://www.w3.org/2000/svg\" height=\"24px\"viewBox=\"0 0 24 24\"\n",
              "       width=\"24px\">\n",
              "    <path d=\"M0 0h24v24H0V0z\" fill=\"none\"/>\n",
              "    <path d=\"M18.56 5.44l.94 2.06.94-2.06 2.06-.94-2.06-.94-.94-2.06-.94 2.06-2.06.94zm-11 1L8.5 8.5l.94-2.06 2.06-.94-2.06-.94L8.5 2.5l-.94 2.06-2.06.94zm10 10l.94 2.06.94-2.06 2.06-.94-2.06-.94-.94-2.06-.94 2.06-2.06.94z\"/><path d=\"M17.41 7.96l-1.37-1.37c-.4-.4-.92-.59-1.43-.59-.52 0-1.04.2-1.43.59L10.3 9.45l-7.72 7.72c-.78.78-.78 2.05 0 2.83L4 21.41c.39.39.9.59 1.41.59.51 0 1.02-.2 1.41-.59l7.78-7.78 2.81-2.81c.8-.78.8-2.07 0-2.86zM5.41 20L4 18.59l7.72-7.72 1.47 1.35L5.41 20z\"/>\n",
              "  </svg>\n",
              "      </button>\n",
              "      \n",
              "  <style>\n",
              "    .colab-df-container {\n",
              "      display:flex;\n",
              "      flex-wrap:wrap;\n",
              "      gap: 12px;\n",
              "    }\n",
              "\n",
              "    .colab-df-convert {\n",
              "      background-color: #E8F0FE;\n",
              "      border: none;\n",
              "      border-radius: 50%;\n",
              "      cursor: pointer;\n",
              "      display: none;\n",
              "      fill: #1967D2;\n",
              "      height: 32px;\n",
              "      padding: 0 0 0 0;\n",
              "      width: 32px;\n",
              "    }\n",
              "\n",
              "    .colab-df-convert:hover {\n",
              "      background-color: #E2EBFA;\n",
              "      box-shadow: 0px 1px 2px rgba(60, 64, 67, 0.3), 0px 1px 3px 1px rgba(60, 64, 67, 0.15);\n",
              "      fill: #174EA6;\n",
              "    }\n",
              "\n",
              "    [theme=dark] .colab-df-convert {\n",
              "      background-color: #3B4455;\n",
              "      fill: #D2E3FC;\n",
              "    }\n",
              "\n",
              "    [theme=dark] .colab-df-convert:hover {\n",
              "      background-color: #434B5C;\n",
              "      box-shadow: 0px 1px 3px 1px rgba(0, 0, 0, 0.15);\n",
              "      filter: drop-shadow(0px 1px 2px rgba(0, 0, 0, 0.3));\n",
              "      fill: #FFFFFF;\n",
              "    }\n",
              "  </style>\n",
              "\n",
              "      <script>\n",
              "        const buttonEl =\n",
              "          document.querySelector('#df-7761e7c0-4d70-48e9-8116-4341eee10805 button.colab-df-convert');\n",
              "        buttonEl.style.display =\n",
              "          google.colab.kernel.accessAllowed ? 'block' : 'none';\n",
              "\n",
              "        async function convertToInteractive(key) {\n",
              "          const element = document.querySelector('#df-7761e7c0-4d70-48e9-8116-4341eee10805');\n",
              "          const dataTable =\n",
              "            await google.colab.kernel.invokeFunction('convertToInteractive',\n",
              "                                                     [key], {});\n",
              "          if (!dataTable) return;\n",
              "\n",
              "          const docLinkHtml = 'Like what you see? Visit the ' +\n",
              "            '<a target=\"_blank\" href=https://colab.research.google.com/notebooks/data_table.ipynb>data table notebook</a>'\n",
              "            + ' to learn more about interactive tables.';\n",
              "          element.innerHTML = '';\n",
              "          dataTable['output_type'] = 'display_data';\n",
              "          await google.colab.output.renderOutput(dataTable, element);\n",
              "          const docLink = document.createElement('div');\n",
              "          docLink.innerHTML = docLinkHtml;\n",
              "          element.appendChild(docLink);\n",
              "        }\n",
              "      </script>\n",
              "    </div>\n",
              "  </div>\n",
              "  "
            ],
            "text/plain": [
              "                           order_id  quantity  \\\n",
              "0  2e7a8482f6fb09756ca50c10d7bfc047         2   \n",
              "1  2e7a8482f6fb09756ca50c10d7bfc047         1   \n",
              "2  e5fa5a7210941f7d56d0208e4e071d35         1   \n",
              "3  3b697a20d9e427646d92567910af6d57         1   \n",
              "4  71303d7e93b399f5bcd537d124c0bcfa         1   \n",
              "5  be5bc2f0da14d8071e2d45451ad119d9         1   \n",
              "6  0a0837a5eee9e7a9ce2b1fa831944d27         1   \n",
              "7  1ff217aa612f6cd7c4255c9bfe931c8b         1   \n",
              "8  22613579f7d11cc59c4347526fc3c79e         1   \n",
              "9  356b492aba2d1a7da886e54e0b6212b7         1   \n",
              "\n",
              "                         product_id    price  \\\n",
              "0  f293394c72c9b5fafd7023301fc21fc2  1489000   \n",
              "1  c1488892604e4ba5cff5b4eb4d595400  1756000   \n",
              "2  f3c2d01a84c947b078e32bbef0718962  1707000   \n",
              "3  3ae08df6bcbfe23586dd431c40bddbb7  3071000   \n",
              "4  d2998d7ced12f83f9b832f33cf6507b6  3833000   \n",
              "5  fd7fd78fd3cbc1b0a6370a7909c0a629  1480000   \n",
              "6  583916a5dae918f5e89baec139141c54  4489000   \n",
              "7  33430c5c1027d812b5c62f778e5ee7f7   822000   \n",
              "8  3ff81cd0e0861e991bb0106c03c113ca  3967000   \n",
              "9  eba7488e1c67729f045ab43fac426f2e  4165000   \n",
              "\n",
              "                          seller_id  freight_value  \\\n",
              "0  1554a68530182680ad5c8b042c3ab563          28000   \n",
              "1  1554a68530182680ad5c8b042c3ab563          45000   \n",
              "2  a425f92c199eb576938df686728acd20         174000   \n",
              "3  522620dcb18a6b31cd7bdf73665113a9         154000   \n",
              "4  25e6ffe976bd75618accfe16cefcbd0d         147000   \n",
              "5  f09b760d23495ac9a7e00d29b769007c         152000   \n",
              "6  3481aa57cd91f9f9d3fa1fa12d9a3bf7          16000   \n",
              "7  4b1eaadf791bdbbad8c4a35b65236d52          58000   \n",
              "8  86bb7c4b535e49a541baf3266b1c95b1          95000   \n",
              "9  620c87c171fb2a6dd6e8bb4dec959fc6          98000   \n",
              "\n",
              "                        customer_id order_status purchase_date  \\\n",
              "0  08c5351a6aca1c1589a38f244edeee9d      shipped    2016-09-05   \n",
              "1  08c5351a6aca1c1589a38f244edeee9d      shipped    2016-09-05   \n",
              "2  683c54fc24d40ee9f8a6fc179fd9856c     canceled    2016-09-05   \n",
              "3  355077684019f7f60a031656bd7262b8    delivered    2016-10-03   \n",
              "4  b106b360fe2ef8849fbbd056f777b4d5     canceled    2016-10-03   \n",
              "5  7ec40b22510fdbea1b08921dd39e63d8    delivered    2016-10-03   \n",
              "6  4f3f778022aefa22b9f9e52d2c47edf3    delivered    2016-10-04   \n",
              "7  b3a9bf200375f53cc5c6991919c356fd    delivered    2016-10-04   \n",
              "8  53cc5d344077104b59d4f6836a90eb0b    delivered    2016-10-04   \n",
              "9  68c74d748a55f9d29e6698f4b01a0df7    delivered    2016-10-04   \n",
              "\n",
              "      payment_type product_category_name  product_weight_gram  \n",
              "0  virtual account               fashion               1800.0  \n",
              "1  virtual account            automotive               1400.0  \n",
              "2         e-wallet                  toys                700.0  \n",
              "3         e-wallet             utilities                300.0  \n",
              "4         e-wallet               fashion                500.0  \n",
              "5         e-wallet           electronics                400.0  \n",
              "6       debit card                  toys               3100.0  \n",
              "7      credit card            automotive                200.0  \n",
              "8       debit card                beauty                600.0  \n",
              "9      credit card            automotive                610.0  "
            ]
          },
          "execution_count": 5,
          "metadata": {},
          "output_type": "execute_result"
        }
      ],
      "source": [
        "# Melihat isi data\n",
        "order_df.head(10)"
      ]
    },
    {
      "cell_type": "markdown",
      "metadata": {
        "id": "q3rU7Q7Q2cTk"
      },
      "source": [
        "**Statistik Deskriptif dari Data Frame**\n",
        "\n",
        "Statistik deskriptif atau summary dalam Python - Pandas, dapat diperoleh dengan menggunakan fungsi describe(), yaitu:\n",
        "\n",
        "```python\n",
        "print(variable_name.describe())\n",
        "```\n",
        "\n",
        "Function describe dapat memberikan informasi mengenai nilai rataan, standar deviasi dan IQR (interquartile range).\n",
        "\n",
        "Ketentuan umum:\n",
        "\n",
        "1. Secara umum function describe() akan secara otomatis mengabaikan kolom category dan hanya memberikan summary statistik untuk kolom berjenis numerik.\n",
        "2. Kita perlu menambahkan argument bernama **include = \"all\"** untuk mendapatkan summary statistik atau statistik deskriptif dari kolom numerik dan karakter.\n",
        "\n",
        "```python\n",
        "print(variable_name.describe(include = \"all\"))\n",
        "```\n",
        "\n",
        "Jika ingin mendapatkan summary statistik dari kolom yang tidak bernilai angka, maka aku dapat menambahkan command **include=[\"object\"] **pada syntax describe().\n",
        "\n",
        "```python\n",
        "print(variable_name.describe(include = \"all\"))\n",
        "```\n",
        "\n",
        "Selanjutnya, untuk mencari rataan dari suatu data dari dataframe. Aku dapat menggunakan syntax **mean**, **median**, dan **mode** dari Pandas.\n",
        "\n",
        "```python\n",
        "print(variable_name.loc[:, \"column_name\"].mean())\n",
        "print(variable_name.loc[:, \"column_name\"].median())\n",
        "print(variable_name.loc[:, \"column_name\"].mode())\n",
        "```"
      ]
    },
    {
      "cell_type": "code",
      "execution_count": null,
      "metadata": {
        "colab": {
          "base_uri": "https://localhost:8080/"
        },
        "id": "-gCPLvwF1s-e",
        "outputId": "ef10cba5-95f5-4eec-c699-a8ddc158e073"
      },
      "outputs": [
        {
          "name": "stdout",
          "output_type": "stream",
          "text": [
            "           quantity         price  freight_value  product_weight_gram\n",
            "count  49999.000000  4.999900e+04   49999.000000         49980.000000\n",
            "mean       1.197484  2.607784e+06  104521.390428          2201.830892\n",
            "std        0.722262  1.388312e+06   55179.844962          3929.896875\n",
            "min        1.000000  2.000000e+05    9000.000000            50.000000\n",
            "25%        1.000000  1.410500e+06   57000.000000           300.000000\n",
            "50%        1.000000  2.610000e+06  104000.000000           800.000000\n",
            "75%        1.000000  3.810000e+06  152000.000000          1850.000000\n",
            "max       21.000000  5.000000e+06  200000.000000         40425.000000\n",
            "2610000.0\n"
          ]
        }
      ],
      "source": [
        "# Menampilkan informasi ringkasan\n",
        "print(order_df.describe())\n",
        "# Menampilkan informasi median\n",
        "print(order_df.loc[:, \"price\"].median())"
      ]
    },
    {
      "cell_type": "markdown",
      "metadata": {
        "id": "-ev2YtbI7Maz"
      },
      "source": [
        "**Mengenal dan Membuat Distribusi Data dengan Histogram**\n",
        "\n",
        "Histogram merupakan salah satu cara untuk mengidentifikasi sebaran distribusi dari data. Histogram adalah grafik yang berisi ringkasan dari sebaran (dispersi atau variasi) suatu data. Pada histogram, tidak ada jarak antar batang/bar dari grafik. Hal ini dikarenakan bahwa titik data kelas bisa muncul dimana saja di daerah cakupan grafik. Sedangkan ketinggian bar sesuai dengan frekuensi atau frekuensi relatif jumlah data di kelas. Semakin tinggi bar, semakin tinggi frekuensi data. Semakin rendah bar, semakin rendah frekuensi data.\n",
        "\n",
        "```python\n",
        "variable_name[[\"column_name\"]].hist(bins=numberofbin, by=columnname, alpha=numberofalpha, figsize=sizeofpicture)\n",
        "```\n",
        "\n",
        "Beberapa atribut penting dalam histogram pandas:\n",
        "\n",
        "1. bins = jumlah_bins dalam histogram yang akan digunakan. Jika tidak didefinisikan jumlah_bins, maka function akan secara default menentukan jumlah_bins sebanyak 10.\n",
        "2. by = nama kolom di DataFrame untuk di group by. (valuenya berupa nama column di dataframe tersebut).\n",
        "3. alpha = nilai_alpha untuk menentukan opacity dari plot di histogram. (value berupa range 0.0 - 1.0, dimana semakin kecil akan semakin kecil opacity nya)\n",
        "4. figsize = tuple_ukuran_gambar yang digunakan untuk menentukan ukuran dari plot histogram. Contoh: figsize=(10,12)"
      ]
    },
    {
      "cell_type": "code",
      "execution_count": null,
      "metadata": {
        "colab": {
          "base_uri": "https://localhost:8080/",
          "height": 320
        },
        "id": "kOcqnIehV0Qe",
        "outputId": "29926996-a9b1-415b-cc44-7b8826f76f09"
      },
      "outputs": [
        {
          "data": {
            "image/png": "[encoded data removed]",
            "text/plain": [
              "<Figure size 1080x360 with 1 Axes>"
            ]
          },
          "metadata": {},
          "output_type": "display_data"
        }
      ],
      "source": [
        "import matplotlib.pyplot as plt\n",
        "# Membuat graph sederhana\n",
        "order_df['freight_value'].hist(figsize=(15,5), bins=100, alpha=0.5)\n",
        "plt.show()"
      ]
    },
    {
      "cell_type": "code",
      "execution_count": null,
      "metadata": {
        "colab": {
          "base_uri": "https://localhost:8080/",
          "height": 348
        },
        "id": "z2ETAXjk5ziR",
        "outputId": "415945d7-d2e9-42b2-f35f-695a26cc9f84"
      },
      "outputs": [
        {
          "data": {
            "image/png": "[encoded data removed]",
            "text/plain": [
              "<Figure size 288x360 with 1 Axes>"
            ]
          },
          "metadata": {},
          "output_type": "display_data"
        }
      ],
      "source": [
        "# membuat graph sederhana 2\n",
        "order_df[[\"price\"]].hist(figsize=(4, 5), bins=10, xlabelsize=8, ylabelsize=8)\n",
        "plt.show()  # Untuk menampilkan histogram plot"
      ]
    },
    {
      "cell_type": "markdown",
      "metadata": {
        "id": "R5zezMtZ9IHV"
      },
      "source": [
        "**Standar Deviasi dan Varians pada Pandas**\n",
        "\n",
        "Varians dan standar deviasi juga merupakan suatu ukuran dispersi atau variasi. Standar deviasi merupakan ukuran dispersi yang paling banyak dipakai. Hal ini mungkin karena standar deviasi mempunyai satuan ukuran yang sama dengan satuan ukuran data asalnya. Sedangkan varians memiliki satuan kuadrat dari data asalnya (misalnya cm^2).\n",
        "\n",
        "Syntax dari standar deviasi dan varians pada Pandas:\n",
        "\n",
        "```python\n",
        "print(variable_name.loc[:, \"column_name\"].std())\n",
        "print(variable_name.loc[:, \"column_name\"].var())\n",
        "```"
      ]
    },
    {
      "cell_type": "code",
      "execution_count": null,
      "metadata": {
        "colab": {
          "base_uri": "https://localhost:8080/"
        },
        "id": "MJy0a915W_48",
        "outputId": "360f923b-9ba6-415a-a314-b63ba9966c03"
      },
      "outputs": [
        {
          "name": "stdout",
          "output_type": "stream",
          "text": [
            "ini adalah std 1388311.591031153\n"
          ]
        }
      ],
      "source": [
        "# Menghitung std\n",
        "print(\"ini adalah std\", order_df.loc[:, \"price\"].std())"
      ]
    },
    {
      "cell_type": "code",
      "execution_count": null,
      "metadata": {
        "colab": {
          "base_uri": "https://localhost:8080/"
        },
        "id": "fm6mFRAEXZWK",
        "outputId": "063de5fe-fc36-4d84-a34d-004236c163de"
      },
      "outputs": [
        {
          "name": "stdout",
          "output_type": "stream",
          "text": [
            "ini adalah std 1927409073791.4512\n"
          ]
        }
      ],
      "source": [
        "# Menghitung var\n",
        "print(\"ini adalah var\", order_df.loc[:, \"price\"].var())"
      ]
    },
    {
      "cell_type": "code",
      "execution_count": null,
      "metadata": {
        "colab": {
          "base_uri": "https://localhost:8080/"
        },
        "id": "vZRFfy9d8qAs",
        "outputId": "78f97a52-46ab-40e9-9968-3af17ab1f896"
      },
      "outputs": [
        {
          "data": {
            "text/plain": [
              "15444089.451063491"
            ]
          },
          "execution_count": 9,
          "metadata": {},
          "output_type": "execute_result"
        }
      ],
      "source": [
        "# Standar variasi kolom product_weight_gram\n",
        "order_df.loc[:, \"product_weight_gram\"].std()\n",
        "# Varians kolom product_weight_gram\n",
        "order_df.loc[:, \"product_weight_gram\"].var()"
      ]
    },
    {
      "cell_type": "markdown",
      "metadata": {
        "id": "9D0N9MRr-lcN"
      },
      "source": [
        "**Menemukan Outliers Menggunakan Pandas**\n",
        "\n",
        "Sebelum menuju ke step by step dalam menemukan outliers, sedikit intermezo dahulu mengenai definisi dari outliers.\n",
        "\n",
        "Outliers merupakan data observasi yang muncul dengan nilai-nilai ekstrim. Yang dimaksud dengan nilai-nilai ekstrim dalam observasi adalah nilai yang jauh atau beda sama sekali dengan sebagian besar nilai lain dalam kelompoknya.\n",
        "\n",
        "![image.png](data:image/png;base64,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)"
      ]
    },
    {
      "cell_type": "markdown",
      "metadata": {
        "id": "ogsdFNO0-xSd"
      },
      "source": [
        "Pada umumnya, outliers dapat ditentukan dengan metric IQR (interquartile range).\n",
        "\n",
        "Rumus dasar dari IQR: Q3 - Q1. Dan data suatu observasi dapat dikatakan outliers jika memenuhi kedua syarat dibawah ini:\n",
        "\n",
        "- data < Q1 - 1.5 * IQR\n",
        "- data > Q3 + 1.5 * IQR\n",
        " \n",
        "Syntax di Python:\n",
        "\n",
        "```python\n",
        "Q1 = variable_name.quantile(0.25)\n",
        "Q3 = variable_name.quantile(0.75)\n",
        "IQR = Q3-Q1\n",
        "\n",
        "# Dibawah outlier\n",
        "Out1 = variable_name < Q1 - 1.5*IQR\n",
        "Out3 = variable_name < Q3 + 1.5*IQR\n",
        "```"
      ]
    },
    {
      "cell_type": "code",
      "execution_count": null,
      "metadata": {
        "colab": {
          "base_uri": "https://localhost:8080/"
        },
        "id": "vO3fvpZG-KyO",
        "outputId": "59194ed9-1762-45ef-ebdb-a2257dcd2f49"
      },
      "outputs": [
        {
          "name": "stdout",
          "output_type": "stream",
          "text": [
            "product_weight_gram    1550.0\n",
            "dtype: float64\n"
          ]
        }
      ],
      "source": [
        "# Hitung quartile 1\n",
        "Q1 = order_df[[\"product_weight_gram\"]].quantile(0.25)\n",
        "# Hitung quartile 3\n",
        "Q3 = order_df[[\"product_weight_gram\"]].quantile(0.75)\n",
        "# Hitung inter quartile range dan cetak ke console\n",
        "IQR = Q3-Q1\n",
        "print(IQR)"
      ]
    },
    {
      "cell_type": "code",
      "execution_count": null,
      "metadata": {
        "id": "UNkI8yryYmfY"
      },
      "outputs": [],
      "source": [
        "out_bawah = order_df.product_weight_gram < Q1 - 1.5*IQR\n",
        "out_atas = order_df.product_weight_gram > Q3 + 1.5*IQR"
      ]
    },
    {
      "cell_type": "markdown",
      "metadata": {
        "id": "L3qCR744Aj9d"
      },
      "source": [
        "**Rename Kolom Data Frame**\n",
        "\n",
        "Pada bagian ini, aku belajar cara mengganti nama kolom dataframe menggunakan Pandas. Mengganti nama kolom pada Pandas dapat dilakukan dengan 2 cara:\n",
        "\n",
        "1. Menggunakan nama kolom.\n",
        "\n",
        "```python\n",
        "variable_name.rename(columns={\"column_name_before\":\"column_name_after\"}, inplace=True)\n",
        "```\n",
        "\n",
        "2. Menggunakan indeks kolom.\n",
        "\n",
        "```python\n",
        "variable_name.columns.values[no_of_column] = \"column_name_after\"\n",
        "```\n",
        "\n"
      ]
    },
    {
      "cell_type": "code",
      "execution_count": null,
      "metadata": {
        "id": "n1B5Pyy_ZwXd"
      },
      "outputs": [],
      "source": [
        "order_df.columns.values[2] = \"product_name\""
      ]
    },
    {
      "cell_type": "code",
      "execution_count": null,
      "metadata": {
        "colab": {
          "base_uri": "https://localhost:8080/",
          "height": 270
        },
        "id": "f5AgkC5wAKIc",
        "outputId": "4b1d5de5-934c-4607-d4a6-c31f1b706193"
      },
      "outputs": [
        {
          "data": {
            "text/html": [
              "\n",
              "  <div id=\"df-4a9ccd8f-f595-4cda-8272-3e052e5bb04f\">\n",
              "    <div class=\"colab-df-container\">\n",
              "      <div>\n",
              "<style scoped>\n",
              "    .dataframe tbody tr th:only-of-type {\n",
              "        vertical-align: middle;\n",
              "    }\n",
              "\n",
              "    .dataframe tbody tr th {\n",
              "        vertical-align: top;\n",
              "    }\n",
              "\n",
              "    .dataframe thead th {\n",
              "        text-align: right;\n",
              "    }\n",
              "</style>\n",
              "<table border=\"1\" class=\"dataframe\">\n",
              "  <thead>\n",
              "    <tr style=\"text-align: right;\">\n",
              "      <th></th>\n",
              "      <th>order_id</th>\n",
              "      <th>quantity</th>\n",
              "      <th>product_id</th>\n",
              "      <th>price</th>\n",
              "      <th>seller_id</th>\n",
              "      <th>shipping_cost</th>\n",
              "      <th>customer_id</th>\n",
              "      <th>order_status</th>\n",
              "      <th>purchase_date</th>\n",
              "      <th>payment_type</th>\n",
              "      <th>product_category_name</th>\n",
              "      <th>product_weight_gram</th>\n",
              "    </tr>\n",
              "  </thead>\n",
              "  <tbody>\n",
              "    <tr>\n",
              "      <th>0</th>\n",
              "      <td>2e7a8482f6fb09756ca50c10d7bfc047</td>\n",
              "      <td>2</td>\n",
              "      <td>f293394c72c9b5fafd7023301fc21fc2</td>\n",
              "      <td>1489000</td>\n",
              "      <td>1554a68530182680ad5c8b042c3ab563</td>\n",
              "      <td>28000</td>\n",
              "      <td>08c5351a6aca1c1589a38f244edeee9d</td>\n",
              "      <td>shipped</td>\n",
              "      <td>2016-09-05</td>\n",
              "      <td>virtual account</td>\n",
              "      <td>fashion</td>\n",
              "      <td>1800.0</td>\n",
              "    </tr>\n",
              "    <tr>\n",
              "      <th>1</th>\n",
              "      <td>2e7a8482f6fb09756ca50c10d7bfc047</td>\n",
              "      <td>1</td>\n",
              "      <td>c1488892604e4ba5cff5b4eb4d595400</td>\n",
              "      <td>1756000</td>\n",
              "      <td>1554a68530182680ad5c8b042c3ab563</td>\n",
              "      <td>45000</td>\n",
              "      <td>08c5351a6aca1c1589a38f244edeee9d</td>\n",
              "      <td>shipped</td>\n",
              "      <td>2016-09-05</td>\n",
              "      <td>virtual account</td>\n",
              "      <td>automotive</td>\n",
              "      <td>1400.0</td>\n",
              "    </tr>\n",
              "    <tr>\n",
              "      <th>2</th>\n",
              "      <td>e5fa5a7210941f7d56d0208e4e071d35</td>\n",
              "      <td>1</td>\n",
              "      <td>f3c2d01a84c947b078e32bbef0718962</td>\n",
              "      <td>1707000</td>\n",
              "      <td>a425f92c199eb576938df686728acd20</td>\n",
              "      <td>174000</td>\n",
              "      <td>683c54fc24d40ee9f8a6fc179fd9856c</td>\n",
              "      <td>canceled</td>\n",
              "      <td>2016-09-05</td>\n",
              "      <td>e-wallet</td>\n",
              "      <td>toys</td>\n",
              "      <td>700.0</td>\n",
              "    </tr>\n",
              "    <tr>\n",
              "      <th>3</th>\n",
              "      <td>3b697a20d9e427646d92567910af6d57</td>\n",
              "      <td>1</td>\n",
              "      <td>3ae08df6bcbfe23586dd431c40bddbb7</td>\n",
              "      <td>3071000</td>\n",
              "      <td>522620dcb18a6b31cd7bdf73665113a9</td>\n",
              "      <td>154000</td>\n",
              "      <td>355077684019f7f60a031656bd7262b8</td>\n",
              "      <td>delivered</td>\n",
              "      <td>2016-10-03</td>\n",
              "      <td>e-wallet</td>\n",
              "      <td>utilities</td>\n",
              "      <td>300.0</td>\n",
              "    </tr>\n",
              "    <tr>\n",
              "      <th>4</th>\n",
              "      <td>71303d7e93b399f5bcd537d124c0bcfa</td>\n",
              "      <td>1</td>\n",
              "      <td>d2998d7ced12f83f9b832f33cf6507b6</td>\n",
              "      <td>3833000</td>\n",
              "      <td>25e6ffe976bd75618accfe16cefcbd0d</td>\n",
              "      <td>147000</td>\n",
              "      <td>b106b360fe2ef8849fbbd056f777b4d5</td>\n",
              "      <td>canceled</td>\n",
              "      <td>2016-10-03</td>\n",
              "      <td>e-wallet</td>\n",
              "      <td>fashion</td>\n",
              "      <td>500.0</td>\n",
              "    </tr>\n",
              "  </tbody>\n",
              "</table>\n",
              "</div>\n",
              "      <button class=\"colab-df-convert\" onclick=\"convertToInteractive('df-4a9ccd8f-f595-4cda-8272-3e052e5bb04f')\"\n",
              "              title=\"Convert this dataframe to an interactive table.\"\n",
              "              style=\"display:none;\">\n",
              "        \n",
              "  <svg xmlns=\"http://www.w3.org/2000/svg\" height=\"24px\"viewBox=\"0 0 24 24\"\n",
              "       width=\"24px\">\n",
              "    <path d=\"M0 0h24v24H0V0z\" fill=\"none\"/>\n",
              "    <path d=\"M18.56 5.44l.94 2.06.94-2.06 2.06-.94-2.06-.94-.94-2.06-.94 2.06-2.06.94zm-11 1L8.5 8.5l.94-2.06 2.06-.94-2.06-.94L8.5 2.5l-.94 2.06-2.06.94zm10 10l.94 2.06.94-2.06 2.06-.94-2.06-.94-.94-2.06-.94 2.06-2.06.94z\"/><path d=\"M17.41 7.96l-1.37-1.37c-.4-.4-.92-.59-1.43-.59-.52 0-1.04.2-1.43.59L10.3 9.45l-7.72 7.72c-.78.78-.78 2.05 0 2.83L4 21.41c.39.39.9.59 1.41.59.51 0 1.02-.2 1.41-.59l7.78-7.78 2.81-2.81c.8-.78.8-2.07 0-2.86zM5.41 20L4 18.59l7.72-7.72 1.47 1.35L5.41 20z\"/>\n",
              "  </svg>\n",
              "      </button>\n",
              "      \n",
              "  <style>\n",
              "    .colab-df-container {\n",
              "      display:flex;\n",
              "      flex-wrap:wrap;\n",
              "      gap: 12px;\n",
              "    }\n",
              "\n",
              "    .colab-df-convert {\n",
              "      background-color: #E8F0FE;\n",
              "      border: none;\n",
              "      border-radius: 50%;\n",
              "      cursor: pointer;\n",
              "      display: none;\n",
              "      fill: #1967D2;\n",
              "      height: 32px;\n",
              "      padding: 0 0 0 0;\n",
              "      width: 32px;\n",
              "    }\n",
              "\n",
              "    .colab-df-convert:hover {\n",
              "      background-color: #E2EBFA;\n",
              "      box-shadow: 0px 1px 2px rgba(60, 64, 67, 0.3), 0px 1px 3px 1px rgba(60, 64, 67, 0.15);\n",
              "      fill: #174EA6;\n",
              "    }\n",
              "\n",
              "    [theme=dark] .colab-df-convert {\n",
              "      background-color: #3B4455;\n",
              "      fill: #D2E3FC;\n",
              "    }\n",
              "\n",
              "    [theme=dark] .colab-df-convert:hover {\n",
              "      background-color: #434B5C;\n",
              "      box-shadow: 0px 1px 3px 1px rgba(0, 0, 0, 0.15);\n",
              "      filter: drop-shadow(0px 1px 2px rgba(0, 0, 0, 0.3));\n",
              "      fill: #FFFFFF;\n",
              "    }\n",
              "  </style>\n",
              "\n",
              "      <script>\n",
              "        const buttonEl =\n",
              "          document.querySelector('#df-4a9ccd8f-f595-4cda-8272-3e052e5bb04f button.colab-df-convert');\n",
              "        buttonEl.style.display =\n",
              "          google.colab.kernel.accessAllowed ? 'block' : 'none';\n",
              "\n",
              "        async function convertToInteractive(key) {\n",
              "          const element = document.querySelector('#df-4a9ccd8f-f595-4cda-8272-3e052e5bb04f');\n",
              "          const dataTable =\n",
              "            await google.colab.kernel.invokeFunction('convertToInteractive',\n",
              "                                                     [key], {});\n",
              "          if (!dataTable) return;\n",
              "\n",
              "          const docLinkHtml = 'Like what you see? Visit the ' +\n",
              "            '<a target=\"_blank\" href=https://colab.research.google.com/notebooks/data_table.ipynb>data table notebook</a>'\n",
              "            + ' to learn more about interactive tables.';\n",
              "          element.innerHTML = '';\n",
              "          dataTable['output_type'] = 'display_data';\n",
              "          await google.colab.output.renderOutput(dataTable, element);\n",
              "          const docLink = document.createElement('div');\n",
              "          docLink.innerHTML = docLinkHtml;\n",
              "          element.appendChild(docLink);\n",
              "        }\n",
              "      </script>\n",
              "    </div>\n",
              "  </div>\n",
              "  "
            ],
            "text/plain": [
              "                           order_id  quantity  \\\n",
              "0  2e7a8482f6fb09756ca50c10d7bfc047         2   \n",
              "1  2e7a8482f6fb09756ca50c10d7bfc047         1   \n",
              "2  e5fa5a7210941f7d56d0208e4e071d35         1   \n",
              "3  3b697a20d9e427646d92567910af6d57         1   \n",
              "4  71303d7e93b399f5bcd537d124c0bcfa         1   \n",
              "\n",
              "                         product_id    price  \\\n",
              "0  f293394c72c9b5fafd7023301fc21fc2  1489000   \n",
              "1  c1488892604e4ba5cff5b4eb4d595400  1756000   \n",
              "2  f3c2d01a84c947b078e32bbef0718962  1707000   \n",
              "3  3ae08df6bcbfe23586dd431c40bddbb7  3071000   \n",
              "4  d2998d7ced12f83f9b832f33cf6507b6  3833000   \n",
              "\n",
              "                          seller_id  shipping_cost  \\\n",
              "0  1554a68530182680ad5c8b042c3ab563          28000   \n",
              "1  1554a68530182680ad5c8b042c3ab563          45000   \n",
              "2  a425f92c199eb576938df686728acd20         174000   \n",
              "3  522620dcb18a6b31cd7bdf73665113a9         154000   \n",
              "4  25e6ffe976bd75618accfe16cefcbd0d         147000   \n",
              "\n",
              "                        customer_id order_status purchase_date  \\\n",
              "0  08c5351a6aca1c1589a38f244edeee9d      shipped    2016-09-05   \n",
              "1  08c5351a6aca1c1589a38f244edeee9d      shipped    2016-09-05   \n",
              "2  683c54fc24d40ee9f8a6fc179fd9856c     canceled    2016-09-05   \n",
              "3  355077684019f7f60a031656bd7262b8    delivered    2016-10-03   \n",
              "4  b106b360fe2ef8849fbbd056f777b4d5     canceled    2016-10-03   \n",
              "\n",
              "      payment_type product_category_name  product_weight_gram  \n",
              "0  virtual account               fashion               1800.0  \n",
              "1  virtual account            automotive               1400.0  \n",
              "2         e-wallet                  toys                700.0  \n",
              "3         e-wallet             utilities                300.0  \n",
              "4         e-wallet               fashion                500.0  "
            ]
          },
          "execution_count": 12,
          "metadata": {},
          "output_type": "execute_result"
        }
      ],
      "source": [
        "# Ganti nama kolom freight_value menjadi shipping_cost\n",
        "order_df.rename(columns={\"freight_value\": \"shipping_cost\"}, inplace=True)\n",
        "order_df.head()"
      ]
    },
    {
      "cell_type": "markdown",
      "metadata": {
        "id": "1T00Zrt5C92d"
      },
      "source": [
        "**.groupby menggunakan Pandas**\n",
        "\n",
        "Kegunaan .groupby adalah mencari summary dari data frame dengan menggunakan aggregate dari kolom tertentu.\n",
        "\n",
        "```python\n",
        "variable_name[\"column_name_value_grouping\"].groupby(variable_name[\"column_name_stay_for_group\"]).operation_data() \n",
        "```\n",
        "\n",
        "dimana isi operation_data adalah sum, mean, dan sebagainya."
      ]
    },
    {
      "cell_type": "code",
      "execution_count": null,
      "metadata": {
        "colab": {
          "base_uri": "https://localhost:8080/"
        },
        "id": "wMI6uXOuCF9Z",
        "outputId": "57d1c8fe-7f09-40ea-85b2-76631d24e8a5"
      },
      "outputs": [
        {
          "name": "stdout",
          "output_type": "stream",
          "text": [
            "payment_type\n",
            "credit card        2.600706e+06\n",
            "debit card         2.611974e+06\n",
            "e-wallet           2.598562e+06\n",
            "virtual account    2.619786e+06\n",
            "Name: price, dtype: float64\n"
          ]
        }
      ],
      "source": [
        "# Hitung rata rata dari price per payment_type\n",
        "rata_rata = order_df[\"price\"].groupby(order_df[\"payment_type\"]).mean()\n",
        "print(rata_rata)"
      ]
    },
    {
      "cell_type": "markdown",
      "metadata": {
        "id": "Ss-5f8yIE6om"
      },
      "source": [
        "**Sorting Menggunakan Pandas**\n",
        "\n",
        "Sorting adalah sebuah metode mengurutkan data berdasarkan syarat kolom tertentu dan biasanya digunakan untuk melihat nilai maksimum dan minimum dari dataset. Library Pandas sendiri menyediakan fungsi sorting sebagai fundamental dari exploratory data analysis.\n",
        "\n",
        "Syntax untuk operasi sorting pada Pandas:\n",
        "\n",
        "```python\n",
        "variable_name.sort_values(by=\"column_name\", ascending=True)\n",
        "variable_name.sort_values(by=[\"column_name1\", \"column_name2\"], ascending=[True, False])\n",
        "```"
      ]
    },
    {
      "cell_type": "code",
      "execution_count": null,
      "metadata": {
        "colab": {
          "base_uri": "https://localhost:8080/",
          "height": 270
        },
        "id": "rHCPWYgpEVx2",
        "outputId": "0fdc5685-5036-461d-8208-65ac92819a79"
      },
      "outputs": [
        {
          "data": {
            "text/html": [
              "\n",
              "  <div id=\"df-a3f9338f-000d-451e-91c2-e05475e4c7a6\">\n",
              "    <div class=\"colab-df-container\">\n",
              "      <div>\n",
              "<style scoped>\n",
              "    .dataframe tbody tr th:only-of-type {\n",
              "        vertical-align: middle;\n",
              "    }\n",
              "\n",
              "    .dataframe tbody tr th {\n",
              "        vertical-align: top;\n",
              "    }\n",
              "\n",
              "    .dataframe thead th {\n",
              "        text-align: right;\n",
              "    }\n",
              "</style>\n",
              "<table border=\"1\" class=\"dataframe\">\n",
              "  <thead>\n",
              "    <tr style=\"text-align: right;\">\n",
              "      <th></th>\n",
              "      <th>order_id</th>\n",
              "      <th>quantity</th>\n",
              "      <th>product_id</th>\n",
              "      <th>price</th>\n",
              "      <th>seller_id</th>\n",
              "      <th>freight_value</th>\n",
              "      <th>customer_id</th>\n",
              "      <th>order_status</th>\n",
              "      <th>purchase_date</th>\n",
              "      <th>payment_type</th>\n",
              "      <th>product_category_name</th>\n",
              "      <th>product_weight_gram</th>\n",
              "    </tr>\n",
              "  </thead>\n",
              "  <tbody>\n",
              "    <tr>\n",
              "      <th>37085</th>\n",
              "      <td>d7b2d3b902441cf3dd12cd125533217d</td>\n",
              "      <td>1</td>\n",
              "      <td>35afc973633aaeb6b877ff57b2793310</td>\n",
              "      <td>5000000</td>\n",
              "      <td>4a3ca9315b744ce9f8e9374361493884</td>\n",
              "      <td>118000</td>\n",
              "      <td>217344c7c334e16c8e76551b4b240c1d</td>\n",
              "      <td>delivered</td>\n",
              "      <td>2017-10-31</td>\n",
              "      <td>debit card</td>\n",
              "      <td>beauty</td>\n",
              "      <td>1825.0</td>\n",
              "    </tr>\n",
              "    <tr>\n",
              "      <th>41958</th>\n",
              "      <td>2711089c7fec59d4dc8483e3c6a12fa3</td>\n",
              "      <td>1</td>\n",
              "      <td>7c1bd920dbdf22470b68bde975dd3ccf</td>\n",
              "      <td>5000000</td>\n",
              "      <td>cc419e0650a3c5ba77189a1882b7556a</td>\n",
              "      <td>31000</td>\n",
              "      <td>0ef59d9bb071def3dbf7e7b055965e95</td>\n",
              "      <td>delivered</td>\n",
              "      <td>2017-11-24</td>\n",
              "      <td>e-wallet</td>\n",
              "      <td>fashion</td>\n",
              "      <td>200.0</td>\n",
              "    </tr>\n",
              "    <tr>\n",
              "      <th>3976</th>\n",
              "      <td>f343624eab419250ad81f1ce6be22c93</td>\n",
              "      <td>1</td>\n",
              "      <td>777d2e438a1b645f3aec9bd57e92672c</td>\n",
              "      <td>5000000</td>\n",
              "      <td>4a3ca9315b744ce9f8e9374361493884</td>\n",
              "      <td>101000</td>\n",
              "      <td>3fc0d940852ab274e532e80b1c1d5c2f</td>\n",
              "      <td>delivered</td>\n",
              "      <td>2017-03-07</td>\n",
              "      <td>debit card</td>\n",
              "      <td>gadget</td>\n",
              "      <td>950.0</td>\n",
              "    </tr>\n",
              "    <tr>\n",
              "      <th>21072</th>\n",
              "      <td>c8947a583ab9791a5a9d02384cb84302</td>\n",
              "      <td>1</td>\n",
              "      <td>f8cfb63e323be2e1c4172f255d61843d</td>\n",
              "      <td>5000000</td>\n",
              "      <td>4a3ca9315b744ce9f8e9374361493884</td>\n",
              "      <td>184000</td>\n",
              "      <td>57c047e791e69bef0af220b0a165a22d</td>\n",
              "      <td>delivered</td>\n",
              "      <td>2017-07-27</td>\n",
              "      <td>credit card</td>\n",
              "      <td>beauty</td>\n",
              "      <td>550.0</td>\n",
              "    </tr>\n",
              "    <tr>\n",
              "      <th>47074</th>\n",
              "      <td>f6134169ca6f0cdfbe6458ebb5731613</td>\n",
              "      <td>1</td>\n",
              "      <td>2ea92fab7565c4fe9f91a5e4e1756258</td>\n",
              "      <td>5000000</td>\n",
              "      <td>3d871de0142ce09b7081e2b9d1733cb1</td>\n",
              "      <td>196000</td>\n",
              "      <td>cbfdcc896d6ebc83c21fdcf4f4762efc</td>\n",
              "      <td>delivered</td>\n",
              "      <td>2017-12-04</td>\n",
              "      <td>virtual account</td>\n",
              "      <td>gadget</td>\n",
              "      <td>10600.0</td>\n",
              "    </tr>\n",
              "  </tbody>\n",
              "</table>\n",
              "</div>\n",
              "      <button class=\"colab-df-convert\" onclick=\"convertToInteractive('df-a3f9338f-000d-451e-91c2-e05475e4c7a6')\"\n",
              "              title=\"Convert this dataframe to an interactive table.\"\n",
              "              style=\"display:none;\">\n",
              "        \n",
              "  <svg xmlns=\"http://www.w3.org/2000/svg\" height=\"24px\"viewBox=\"0 0 24 24\"\n",
              "       width=\"24px\">\n",
              "    <path d=\"M0 0h24v24H0V0z\" fill=\"none\"/>\n",
              "    <path d=\"M18.56 5.44l.94 2.06.94-2.06 2.06-.94-2.06-.94-.94-2.06-.94 2.06-2.06.94zm-11 1L8.5 8.5l.94-2.06 2.06-.94-2.06-.94L8.5 2.5l-.94 2.06-2.06.94zm10 10l.94 2.06.94-2.06 2.06-.94-2.06-.94-.94-2.06-.94 2.06-2.06.94z\"/><path d=\"M17.41 7.96l-1.37-1.37c-.4-.4-.92-.59-1.43-.59-.52 0-1.04.2-1.43.59L10.3 9.45l-7.72 7.72c-.78.78-.78 2.05 0 2.83L4 21.41c.39.39.9.59 1.41.59.51 0 1.02-.2 1.41-.59l7.78-7.78 2.81-2.81c.8-.78.8-2.07 0-2.86zM5.41 20L4 18.59l7.72-7.72 1.47 1.35L5.41 20z\"/>\n",
              "  </svg>\n",
              "      </button>\n",
              "      \n",
              "  <style>\n",
              "    .colab-df-container {\n",
              "      display:flex;\n",
              "      flex-wrap:wrap;\n",
              "      gap: 12px;\n",
              "    }\n",
              "\n",
              "    .colab-df-convert {\n",
              "      background-color: #E8F0FE;\n",
              "      border: none;\n",
              "      border-radius: 50%;\n",
              "      cursor: pointer;\n",
              "      display: none;\n",
              "      fill: #1967D2;\n",
              "      height: 32px;\n",
              "      padding: 0 0 0 0;\n",
              "      width: 32px;\n",
              "    }\n",
              "\n",
              "    .colab-df-convert:hover {\n",
              "      background-color: #E2EBFA;\n",
              "      box-shadow: 0px 1px 2px rgba(60, 64, 67, 0.3), 0px 1px 3px 1px rgba(60, 64, 67, 0.15);\n",
              "      fill: #174EA6;\n",
              "    }\n",
              "\n",
              "    [theme=dark] .colab-df-convert {\n",
              "      background-color: #3B4455;\n",
              "      fill: #D2E3FC;\n",
              "    }\n",
              "\n",
              "    [theme=dark] .colab-df-convert:hover {\n",
              "      background-color: #434B5C;\n",
              "      box-shadow: 0px 1px 3px 1px rgba(0, 0, 0, 0.15);\n",
              "      filter: drop-shadow(0px 1px 2px rgba(0, 0, 0, 0.3));\n",
              "      fill: #FFFFFF;\n",
              "    }\n",
              "  </style>\n",
              "\n",
              "      <script>\n",
              "        const buttonEl =\n",
              "          document.querySelector('#df-a3f9338f-000d-451e-91c2-e05475e4c7a6 button.colab-df-convert');\n",
              "        buttonEl.style.display =\n",
              "          google.colab.kernel.accessAllowed ? 'block' : 'none';\n",
              "\n",
              "        async function convertToInteractive(key) {\n",
              "          const element = document.querySelector('#df-a3f9338f-000d-451e-91c2-e05475e4c7a6');\n",
              "          const dataTable =\n",
              "            await google.colab.kernel.invokeFunction('convertToInteractive',\n",
              "                                                     [key], {});\n",
              "          if (!dataTable) return;\n",
              "\n",
              "          const docLinkHtml = 'Like what you see? Visit the ' +\n",
              "            '<a target=\"_blank\" href=https://colab.research.google.com/notebooks/data_table.ipynb>data table notebook</a>'\n",
              "            + ' to learn more about interactive tables.';\n",
              "          element.innerHTML = '';\n",
              "          dataTable['output_type'] = 'display_data';\n",
              "          await google.colab.output.renderOutput(dataTable, element);\n",
              "          const docLink = document.createElement('div');\n",
              "          docLink.innerHTML = docLinkHtml;\n",
              "          element.appendChild(docLink);\n",
              "        }\n",
              "      </script>\n",
              "    </div>\n",
              "  </div>\n",
              "  "
            ],
            "text/plain": [
              "                               order_id  quantity  \\\n",
              "37085  d7b2d3b902441cf3dd12cd125533217d         1   \n",
              "41958  2711089c7fec59d4dc8483e3c6a12fa3         1   \n",
              "3976   f343624eab419250ad81f1ce6be22c93         1   \n",
              "21072  c8947a583ab9791a5a9d02384cb84302         1   \n",
              "47074  f6134169ca6f0cdfbe6458ebb5731613         1   \n",
              "\n",
              "                             product_id    price  \\\n",
              "37085  35afc973633aaeb6b877ff57b2793310  5000000   \n",
              "41958  7c1bd920dbdf22470b68bde975dd3ccf  5000000   \n",
              "3976   777d2e438a1b645f3aec9bd57e92672c  5000000   \n",
              "21072  f8cfb63e323be2e1c4172f255d61843d  5000000   \n",
              "47074  2ea92fab7565c4fe9f91a5e4e1756258  5000000   \n",
              "\n",
              "                              seller_id  freight_value  \\\n",
              "37085  4a3ca9315b744ce9f8e9374361493884         118000   \n",
              "41958  cc419e0650a3c5ba77189a1882b7556a          31000   \n",
              "3976   4a3ca9315b744ce9f8e9374361493884         101000   \n",
              "21072  4a3ca9315b744ce9f8e9374361493884         184000   \n",
              "47074  3d871de0142ce09b7081e2b9d1733cb1         196000   \n",
              "\n",
              "                            customer_id order_status purchase_date  \\\n",
              "37085  217344c7c334e16c8e76551b4b240c1d    delivered    2017-10-31   \n",
              "41958  0ef59d9bb071def3dbf7e7b055965e95    delivered    2017-11-24   \n",
              "3976   3fc0d940852ab274e532e80b1c1d5c2f    delivered    2017-03-07   \n",
              "21072  57c047e791e69bef0af220b0a165a22d    delivered    2017-07-27   \n",
              "47074  cbfdcc896d6ebc83c21fdcf4f4762efc    delivered    2017-12-04   \n",
              "\n",
              "          payment_type product_category_name  product_weight_gram  \n",
              "37085       debit card                beauty               1825.0  \n",
              "41958         e-wallet               fashion                200.0  \n",
              "3976        debit card                gadget                950.0  \n",
              "21072      credit card                beauty                550.0  \n",
              "47074  virtual account                gadget              10600.0  "
            ]
          },
          "execution_count": 15,
          "metadata": {},
          "output_type": "execute_result"
        }
      ],
      "source": [
        "# Hitung harga maksimum pembelian customer\n",
        "sort_harga = order_df.sort_values(by=\"price\", ascending=False)\n",
        "sort_harga.head()"
      ]
    }
  ],
  "metadata": {
    "colab": {
      "provenance": [],
      "toc_visible": true
    },
    "kernelspec": {
      "display_name": "Python 3",
      "name": "python3"
    },
    "language_info": {
      "name": "python"
    }
  },
  "nbformat": 4,
  "nbformat_minor": 0
}
