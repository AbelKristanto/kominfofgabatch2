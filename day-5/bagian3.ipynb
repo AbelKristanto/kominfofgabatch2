{
  "cells": [
    {
      "cell_type": "markdown",
      "metadata": {
        "id": "WIoPcR3jnk5m"
      },
      "source": [
        "[12/09/2022] **Penulisan ini diupdate** - Pembaruan isi dokumen dan materi pembelajaran."
      ]
    },
    {
      "cell_type": "markdown",
      "metadata": {
        "id": "jL_e8WbVbxjn"
      },
      "source": [
        "## **MINI QUIZ**\n",
        "\n",
        "Silahkan jawab pertanyaan berikut ini:\n",
        "\n",
        "1. Median price yang dibayar customer dari masing-masing metode pembayaran. \n",
        "2. Tentukan metode pembayaran yang memiliki basket size (rataan median price) terbesar.\n",
        "3. Ubah freight_value menjadi shipping_cost dan cari shipping_cost termahal dari data penjualan tersebut menggunakan sort. \n",
        "4. Untuk setiap product_category_name, berapa rata-rata weight produk tersebut dan standar deviasi mana yang terkecil dari weight tersebut.\n",
        "5. Buat histogram quantity penjualan dari dataset tersebut untuk melihat persebaran quantity penjualan tersebut dengan bins = 5 dan figsize= (4,5). "
      ]
    },
    {
      "cell_type": "code",
      "execution_count": null,
      "metadata": {
        "id": "9cGtZIuHGVOo"
      },
      "outputs": [],
      "source": [
        "# Median price yang dibayar customer dari masing-masing metode pembayaran. \n",
        "median_price = order_df[\"price\"].groupby(order_df[\"payment_type\"]).median()\n",
        "print(median_price)\n",
        "# Ubah freight_value menjadi shipping_cost dan cari shipping_cost \n",
        "# termahal dari data penjualan tersebut menggunakan sort.\n",
        "order_df.rename(columns={\"freight_value\": \"shipping_cost\"}, inplace=True)\n",
        "sort_value = order_df.sort_values(by=\"shipping_cost\", ascending=0)\n",
        "print(sort_value)\n",
        "\n",
        "# Untuk product_category_name, berapa  rata-rata weight produk tersebut \n",
        "# dan standar deviasi mana yang terkecil dari weight tersebut, \n",
        "mean_value = order_df[\"product_weight_gram\"].groupby(order_df[\"product_category_name\"]).mean()\n",
        "print(mean_value.sort_values())\n",
        "std_value = order_df[\"product_weight_gram\"].groupby(order_df[\"product_category_name\"]).std()\n",
        "print(std_value.sort_values())\n",
        "\n",
        "# Buat histogram quantity penjualan dari dataset tersebutuntuk melihat persebaran quantity \n",
        "# penjualan tersebut dengan bins = 5 dan figsize= (4,5)\n",
        "order_df[[\"quantity\"]].hist(figsize=(4, 5), bins=5)\n",
        "plt.show()"
      ]
    },
    {
      "cell_type": "markdown",
      "metadata": {
        "id": "TR3pRnUJsOaP"
      },
      "source": [
        "FIN"
      ]
    }
  ],
  "metadata": {
    "colab": {
      "provenance": [],
      "toc_visible": true
    },
    "kernelspec": {
      "display_name": "Python 3",
      "name": "python3"
    },
    "language_info": {
      "name": "python"
    }
  },
  "nbformat": 4,
  "nbformat_minor": 0
}
