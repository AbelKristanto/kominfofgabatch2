{
  "cells": [
    {
      "cell_type": "markdown",
      "metadata": {
        "id": "WIoPcR3jnk5m"
      },
      "source": [
        "[12/09/2022] **Penulisan ini diupdate** - Pembaruan isi dokumen dan materi pembelajaran."
      ]
    },
    {
      "cell_type": "markdown",
      "metadata": {
        "id": "XLIatngjnsCk"
      },
      "source": [
        "## **BAGIAN 1: Pengenalan Library di Python**\n",
        "\n",
        "Library pada Python kebanyakan bersifat open-source yang dapat dipanggil ke dalam Python untuk komputasi. Sebagai contoh, library dasar pada Python yang digunakan untuk analisis data antara lain **NumPy**, **SciPy**, **Pandas**, dan **Matplotlib** dengan fungsional yang berbeda-beda. "
      ]
    },
    {
      "cell_type": "markdown",
      "metadata": {
        "id": "SqQX3DWnoq5u"
      },
      "source": [
        "**NUMPY**\n",
        "\n",
        "Numpy berasal dari kata ‘Numerical Python’, sesuai namanya NumPy berfungsi sebagai library untuk melakukan proses komputasi numerik terutama dalam bentuk array multidimensional (1-Dimensi ataupun 2-Dimensi). Array merupakan kumpulan dari variabel yang memiliki tipe data yang sama. NumPy menyimpan data dalam bentuk arrays."
      ]
    },
    {
      "cell_type": "markdown",
      "metadata": {
        "id": "_EiUZ59AoxCe"
      },
      "source": [
        "Berikut ini contoh 1D NumPy array dapat diilustrasikan sebagai berikut:\n",
        "\n",
        "![image.png](data:image/png;base64,iVBORw0KGgoAAAANSUhEUgAAAOYAAAAyCAYAAABIxaeCAAABvUlEQVR4nO3Usa3iQBhF4TtgEYEgoQBETEgFNEEPFEQtINogISO1BAgjAQJ7ZoOVNtrgOZprvfNVcDX6z4SUUhIAK8V2u829oZWqqpRS0ng8zj2llbIsNZlMNBgMck9ppSxLTadThRByT/mx5/OpGKOGw2HuKa3c73dtNhuNRiMV6/U6955WjsejYoxaLBa5p7RyOBy0XC4796Hs93utViv1+/3cU37sfD4rxqjZbJZ7Siu73U5N00iSepm3APgPwgQMESZgiDABQ4QJGCJMwBBhAoYIEzBEmIAhwgQMESZgiDABQ4QJGCJMwBBhAoYIEzBEmIAhwgQMESZgiDABQ4QJGCJMwBBhAoYIEzBEmIAhwgQMESZgiDABQ4QJGCJMwBBhAoYIEzBEmIAhwgQMESZgiDABQ4QJGCJMwBBhAoYIEzBEmIAhwgQMESZgqLhcLrk3tPJ4PCRJXdv9er10u91U13XuKa28329dr1f1et35w6uqUoyxczfy+XwUQpAkhdPplDLvaaVpGoUQOnUokvT9flUUxb+H74q6rlUURe4ZrcQYJalzNxJj1Hw+/3snKaVOhQn8Bt36UoBf4g/1vm3TK+IE2gAAAABJRU5ErkJggg==)"
      ]
    },
    {
      "cell_type": "markdown",
      "metadata": {
        "id": "duxgntPKo7rs"
      },
      "source": [
        "Berikut ini contoh 2D NumPy array dapat diilustrasikan sebagai berikut:\n",
        "\n",
        "![image.png](data:image/png;base64,iVBORw0KGgoAAAANSUhEUgAAAO4AAACUCAYAAACUVxWFAAAD9ElEQVR4nO3XPWpbTRiG4VeSFUF+mlhNmhQhpXFt8Ba8h2wg28gKsg7vwZVJEQxZgklMEhdCB+LIR8g6Kb7iq4+a4YHrWsHDwD3MTIZhGAqIMm09ABjv6PPnz603jDYMQ+12u5rP562nHGS73dZsNqvZbNZ6ymj7/b72+30dHR21nnKQvu/r2bNnNZlMWk8ZbTqd1ocPH+rly5c1Wa1WcU/lzWZTNzc3dX5+3nrKQa6ururk5KSWy2XrKaPd3t5W13V1enraespBLi8v6+LiohaLRespo11fX9fZ2VkdHx97KkMi4UIg4UIg4UIg4UIg4UIg4UIg4UIg4UIg4UIg4UIg4UIg4UIg4UIg4UIg4UIg4UIg4UIg4UIg4UIg4UIg4UIg4UIg4UIg4UIg4UIg4UIg4UIg4UIg4UIg4UIg4UIg4UIg4UIg4UIg4UIg4UIg4UIg4UIg4UIg4UIg4UIg4UIg4UIg4UKgo+/fv7feMFrf99V1XSVur6par9f169ev2mw2raeMdn9/X3/+/Ik9+4eHh7q7u6v5fN56ymjr9bqGYaiqqqO+7xvPGa/v+9rtdpW4varq6emptttt5P7tdht/9n3f136/bz1ltN1u93+479+/bzxnvM1mU+v1uhK3V1X9+PGj3r59W8vlsvWU0ebzeXVdF3v23759q3fv3tVisWg9ZbT7+/uaTv/73frjQiDhQiDhQiDhQiDhQiDhQiDhQiDhQiDhQiDhQiDhQiDhQiDhQiDhQiDhQiDhQiDhQiDhQiDhQiDhQiDhQiDhQiDhQiDhQiDhQiDhQiDhQiDhQiDhQiDhQiDhQiDhQiDhQiDhQiDhQiDhQiDhQiDhQiDhQiDhQiDhQiDhQiDhQiDhQiDhQqDJp0+fhtYjxtrv9/X4+FjPnz9vPeUgXdfVq1evajrNuze3220Nw1CLxaL1lIOsVqt6/fp16xkHeXh4qI8fP9abN29qslqt4sLdbDZ1c3NT5+fnracc5Orqqk5OTmq5XLaeMtrt7W11XVenp6etpxzk8vKyLi4uIi+e6+vrOjs7q+PjY09lSCRcCCRcCCRcCCRcCCRcCCRcCCRcCCRcCCRcCCRcCCRcCCRcCCRcCCRcCCRcCCRcCCRcCCRcCCRcCCRcCCRcCCRcCCRcCCRcCCRcCCRcCCRcCCRcCCRcCCRcCCRcCCRcCCRcCCRcCCRcCCRcCCRcCCRcCCRcCCRcCCRcCCRcCCRcCCRcCHT05cuX1htG2+12dXd3V4nbq6p+/vxZT09P9eLFi9ZTRuu6rh4fH+vv37+tpxxkvV7X169fazabtZ4y2u/fv2s+n1dV1WQYhqHxHmAkT2UIJFwI9A+1V+/2Vi11HAAAAABJRU5ErkJggg==)\n"
      ]
    },
    {
      "cell_type": "markdown",
      "metadata": {
        "id": "b1uV8SqGpM7A"
      },
      "source": [
        "**PANDAS**\n",
        "\n",
        "Pandas merupakan library yang memudahkan dalam melakukan manipulasi, cleansing maupun analisis struktur data. Dengan menggunakan Pandas, dapat memanfaatkan lima fitur utama dalam pemrosesan dan analisis data, yaitu load, prepare, manipulate, modelling, dan analysis data.\n",
        "\n",
        "Pandas menggunakan konsep array dari NumPy namun memberikan index kepada array tersebut, sehingga disebut series ataupun data frame. Sehingga bisa dikatakan Pandas menyimpan data dalam dictionary-based NumPy arrays. 1-Dimensi labelled array dinamakan sebagai Series. Sedangkan 2-Dimensi dinamakan sebagai Data Frame."
      ]
    },
    {
      "cell_type": "markdown",
      "metadata": {
        "id": "cjBmqpNbpRFK"
      },
      "source": [
        "Berikut ini contoh **Series** dapat diilustrasikan sebagai berikut:\n",
        "\n",
        "![image.png](data:image/png;base64,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)"
      ]
    },
    {
      "cell_type": "markdown",
      "metadata": {
        "id": "KZ8KZrQEpawl"
      },
      "source": [
        "Berikut ini contoh **data frame** dapat diilustrasikan sebagai berikut:\n",
        "\n",
        "![image.png](data:image/png;base64,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)"
      ]
    },
    {
      "cell_type": "markdown",
      "metadata": {
        "id": "G5jgCj5yra-y"
      },
      "source": [
        "**SCIPY**\n",
        "\n",
        "Scipy dibangun untuk bekerja dengan array NumPy dan menyediakan banyak komputasi numerik yang ramah pengguna dan efisien seperti rutinitas untuk integrasi, diferensiasi dan optimasi numerik.\n",
        "\n",
        "Baik NumPy maupun SciPy berjalan pada semua operating system, cepat untuk diinstall dan gratis. NumPy dan SciPy mudah digunakan, tetapi cukup kuat untuk diandalkan oleh beberapa data scientist dan researcher terkemuka dunia."
      ]
    },
    {
      "cell_type": "markdown",
      "metadata": {
        "id": "EvvxsiCnrthv"
      },
      "source": [
        "**MATPLOTLIB**\n",
        "\n",
        "Matplotlib merupakan library dari Python yang umum digunakan untuk visualisasi data. Matplotlib memiliki kapabilitas untuk membuat visualisasi data 2-dimensional. Contoh visualisasi yang dapat dibuat dengan menggunakan matplotlib diantaranya adalah\n",
        "\n",
        "- Line chart\n",
        "- Bar chart\n",
        "- Pie chart\n",
        "- Box plot chart\n",
        "- Violin chart\n",
        "- Errorbar chart\n",
        "- Scatter chart\n",
        "- Jenis-jenis chart lainnya juga dapat dibuat melalui library ini."
      ]
    },
    {
      "cell_type": "markdown",
      "metadata": {
        "id": "bD5_K8wctEvn"
      },
      "source": [
        "**MEMANGGIL LIBRARY**\n",
        "\n",
        "Sebelum dapat digunakan, library tersebut harus terlebih dahulu dipanggil ke dalam lingkungan Python. Command untuk memanggil library di Python menggunakan syntax (menggunakan huruf kecil):\n",
        "\n",
        "```python\n",
        "import library_name as aliasing\n",
        "```\n",
        "\n",
        "**Alias** berfungsi sebagai pengganti nama library, sehingga menghemat komputasi saat function dari library tersebut dipanggil.\n"
      ]
    },
    {
      "cell_type": "code",
      "execution_count": null,
      "metadata": {
        "id": "CcWo3wbNScBr"
      },
      "outputs": [],
      "source": [
        "# import scipy as ....\n",
        "# import pandas as ps\n",
        "# import matplotlib as mb"
      ]
    },
    {
      "cell_type": "code",
      "execution_count": null,
      "metadata": {
        "id": "0vLv5tQktdu0"
      },
      "outputs": [],
      "source": [
        "import pandas as pd\n",
        "import matplotlib.pyplot as plt"
      ]
    }
  ],
  "metadata": {
    "colab": {
      "provenance": [],
      "toc_visible": true
    },
    "kernelspec": {
      "display_name": "Python 3",
      "name": "python3"
    },
    "language_info": {
      "name": "python"
    }
  },
  "nbformat": 4,
  "nbformat_minor": 0
}
