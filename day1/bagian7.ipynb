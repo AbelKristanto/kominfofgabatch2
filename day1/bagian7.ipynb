{
  "cells": [
    {
      "cell_type": "markdown",
      "id": "HRci43FBwIzw",
      "metadata": {
        "id": "HRci43FBwIzw"
      },
      "source": [
        "[12/09/2022] **Penulisan ini diupdate** - Pembaruan isi dokumen dan materi pembelajaran."
      ]
    },
    {
      "cell_type": "markdown",
      "id": "559d78c5",
      "metadata": {
        "id": "559d78c5"
      },
      "source": [
        "## **BAGIAN 7: Membaca file**\n",
        "\n",
        "Salah satu file yang umum digunakan adalah CSV atau comma separated value, ringan dan simpel digunakan. Tidak hanya itu CSV pun sering digunakan dalam pengolahan informasi yang dihasilkan spreadsheet untuk diproses lebih lanjut melalui mesin analitik. CSV pun dianggap sebagai file yang agnostik karena dapat digunakan oleh berbagai database untuk proses backup data. \n",
        "\n",
        "```python\n",
        "#menyiapkan library\n",
        "import requests\n",
        "from contextlib import closing\n",
        "import csv\n",
        "\n",
        "#tentukan lokasi file, nama file dan inisialisasi csv\n",
        "url = 'https://storage.googleapis.com/dqlab-dataset/penduduk_gender_head.csv'\n",
        "\n",
        "with closing(requests.get(url, stream=True)) as r:\n",
        "\tf = (line.decode('utf-8') for line in r.iter_lines())\n",
        "\treader = csv.reader(f, delimiter=',')\n",
        "\t\n",
        "\t#membaca baris per baris data yang tersedia\n",
        "\tfor row in reader:\n",
        "\t\tprint(row)\n",
        "\n",
        "#menutup file csv\n",
        "#f.close()\n",
        "```"
      ]
    },
    {
      "cell_type": "code",
      "execution_count": null,
      "id": "202971e8",
      "metadata": {
        "id": "202971e8"
      },
      "outputs": [],
      "source": [
        "# Silahkan dicoba disini\n",
        "\n"
      ]
    },
    {
      "cell_type": "markdown",
      "id": "ce56dbeb",
      "metadata": {
        "id": "ce56dbeb"
      },
      "source": [
        "Gunakan pandas sebagai pemanggilan dataset.\n",
        "\n",
        "```python\n",
        "import pandas as pd\n",
        "pd.set_option(\"display.max_columns\", 50)\n",
        "\n",
        "table = pd.read_csv(\"https://storage.googleapis.com/dqlab-dataset/penduduk_gender_head.csv\")\n",
        "table.head()\n",
        "```"
      ]
    },
    {
      "cell_type": "code",
      "execution_count": null,
      "id": "aae6d876",
      "metadata": {
        "id": "aae6d876"
      },
      "outputs": [],
      "source": [
        "# Silahkan dicoba disini\n",
        "\n"
      ]
    }
  ],
  "metadata": {
    "colab": {
      "collapsed_sections": [],
      "provenance": [],
      "toc_visible": true
    },
    "kernelspec": {
      "display_name": "Python 3 (ipykernel)",
      "language": "python",
      "name": "python3"
    },
    "language_info": {
      "codemirror_mode": {
        "name": "ipython",
        "version": 3
      },
      "file_extension": ".py",
      "mimetype": "text/x-python",
      "name": "python",
      "nbconvert_exporter": "python",
      "pygments_lexer": "ipython3",
      "version": "3.8.12"
    },
    "toc": {
      "base_numbering": 1,
      "nav_menu": {},
      "number_sections": true,
      "sideBar": true,
      "skip_h1_title": false,
      "title_cell": "Table of Contents",
      "title_sidebar": "Contents",
      "toc_cell": false,
      "toc_position": {},
      "toc_section_display": true,
      "toc_window_display": true
    }
  },
  "nbformat": 4,
  "nbformat_minor": 5
}
