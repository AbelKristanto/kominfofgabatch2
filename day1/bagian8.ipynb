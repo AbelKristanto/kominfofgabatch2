{
  "cells": [
    {
      "cell_type": "markdown",
      "id": "HRci43FBwIzw",
      "metadata": {
        "id": "HRci43FBwIzw"
      },
      "source": [
        "[12/09/2022] **Penulisan ini diupdate** - Pembaruan isi dokumen dan materi pembelajaran."
      ]
    },
    {
      "cell_type": "markdown",
      "id": "60a5e503",
      "metadata": {
        "id": "60a5e503"
      },
      "source": [
        "## **BAGIAN 8: Grafik**\n",
        "\n",
        "Grafik merupakan salah satu perangkat visualisasi untuk mempermudah seseorang untuk memahami data, meningkatkan analisa atau memunculkan knowledge yang tidak sempat terekspos ketika tidak menggunakan visualisasi.\n",
        "\n",
        "Perhatikan berikut ini:\n",
        "\n",
        "1. **BAR** (korelasi antara categorical dengan numerical variabel)\n",
        "\n",
        "```python\n",
        "import pandas as pd #open library pandas\n",
        "import numpy as np #open library numpy\n",
        "import matplotlib.pyplot as plt #open library matplotlib\n",
        "\n",
        "table = pd.read_csv(\"https://storage.googleapis.com/dqlab-dataset/penduduk_gender_head.csv\") #pembacaan data\n",
        "table.head() #pengumpulan data\n",
        "x_label = table['NAMA KELURAHAN'] #data yang dirender\n",
        "# len(x_label) untuk menghitung jumlah row yang dimiliki\n",
        "plt.bar(x=np.arange(x_label.count()),height=table['LAKI-LAKI WNI']) #bar yang ditampilkan\n",
        "plt.show() #menampilkan data bar\n",
        "```"
      ]
    },
    {
      "cell_type": "code",
      "execution_count": null,
      "id": "dkxkkRELVh1h",
      "metadata": {
        "id": "dkxkkRELVh1h"
      },
      "outputs": [],
      "source": [
        "# Silahkan dicoba disini\n",
        "\n"
      ]
    },
    {
      "cell_type": "markdown",
      "id": "eUCg-muBJplS",
      "metadata": {
        "id": "eUCg-muBJplS"
      },
      "source": [
        "2. **Histogram** (distribusi data)\n",
        "\n",
        "```python\n",
        "# kita melihat distribusi perempuan WNI\n",
        "table[\"PEREMPUAN WNI\"].hist()\n",
        "plt.show()\n",
        "```\n",
        "\n"
      ]
    },
    {
      "cell_type": "code",
      "execution_count": null,
      "id": "AI7mzC0sKXKB",
      "metadata": {
        "id": "AI7mzC0sKXKB"
      },
      "outputs": [],
      "source": [
        "# Silahkan dicoba disini\n",
        "\n"
      ]
    },
    {
      "cell_type": "markdown",
      "id": "xnssKtneKT5t",
      "metadata": {
        "id": "xnssKtneKT5t"
      },
      "source": [
        "3. **Line** (Numerical dalam waktu)\n",
        "\n",
        "```python\n",
        "# kita melihat perkembangan laki-laki WNI dalam Tahun\n",
        "table.plot(x=\"TAHUN\", y=\"LAKI-LAKI WNI\", kind=\"line\", rot=45)\n",
        "plt.show()\n",
        "```\n",
        "\n"
      ]
    },
    {
      "cell_type": "code",
      "execution_count": null,
      "id": "gA1ZhbXuKYTb",
      "metadata": {
        "id": "gA1ZhbXuKYTb"
      },
      "outputs": [],
      "source": [
        "# Silahkan dicoba disini\n",
        "\n"
      ]
    },
    {
      "cell_type": "markdown",
      "id": "IGVVG8jfKunl",
      "metadata": {
        "id": "IGVVG8jfKunl"
      },
      "source": [
        "4. **Scatter** (Korelasi antara numerical)\n",
        "\n",
        "```python\n",
        "# kita melihat korelasi WNI dan WNA pria\n",
        "table.plot(x=\"LAKI-LAKI WNI\", y=\"LAKI-LAKI WNA\", kind=\"scatter\")\n",
        "plt.show()\n",
        "```\n",
        "\n"
      ]
    },
    {
      "cell_type": "code",
      "execution_count": null,
      "id": "6828c726",
      "metadata": {
        "id": "6828c726"
      },
      "outputs": [],
      "source": [
        "# Silahkan dicoba disini\n",
        "\n"
      ]
    },
    {
      "cell_type": "markdown",
      "id": "812b0bc6",
      "metadata": {
        "id": "812b0bc6"
      },
      "source": [
        "Labeling dalam grafik, perhatikan berikut ini.\n",
        "\n",
        "```python\n",
        "import pandas as pd #merename pandas menjadi pd\n",
        "import numpy as np #merename numpy mejadi np\n",
        "import matplotlib.pyplot as plt #merename matplotlib menjadi plt\n",
        "\n",
        "#data yang diproses\n",
        "table = pd.read_csv(\"https://storage.googleapis.com/dqlab-dataset/penduduk_gender_head.csv\")\n",
        "#hasil tabel yang terbentuk dipilih kepala tabel\n",
        "table.head()\n",
        "\n",
        "#memilih kumpulan data yang dibentuk grafik yang terpilih\n",
        "x_label = table['NAMA KELURAHAN']\n",
        "#jumlah data yang di highlight\n",
        "plt.bar(x=np.arange(len(x_label)),height=table['LAKI-LAKI WNI'])\n",
        "#data parameter terlihat dengan sudut 30\n",
        "plt.xticks(np.arange(len(x_label)), table['NAMA KELURAHAN'], rotation=30)\n",
        "#menampilkan data\n",
        "plt.show()\n",
        "```"
      ]
    },
    {
      "cell_type": "code",
      "execution_count": null,
      "id": "1788bc8b",
      "metadata": {
        "id": "1788bc8b"
      },
      "outputs": [],
      "source": [
        "# Silahkan dicoba disini\n",
        "\n"
      ]
    },
    {
      "cell_type": "markdown",
      "id": "4522528c",
      "metadata": {
        "id": "4522528c"
      },
      "source": [
        "Menambahkan labeling dalam grafik. Perhatikan berikut ini.\n",
        "\n",
        "```python\n",
        "import pandas as pd\n",
        "import numpy as np\n",
        "import matplotlib.pyplot as plt\n",
        "\n",
        "\n",
        "table = pd.read_csv(\"https://storage.googleapis.com/dqlab-dataset/penduduk_gender_head.csv\")\n",
        "table.head()\n",
        "\n",
        "x_label = table['NAMA KELURAHAN']\n",
        "plt.bar(x=np.arange(len(x_label)),height=table['LAKI-LAKI WNI'])\n",
        "plt.xticks(np.arange(len(x_label)), table['NAMA KELURAHAN'], rotation=90)\n",
        "plt.xlabel('Kelurahan di Jakarta Pusat')\n",
        "plt.ylabel('Jumlah Penduduk Laki - Laki')\n",
        "plt.title('Persebaran Jumlah Penduduk Laki- Laki di Jakarta Pusat')\n",
        "\n",
        "plt.show()\n",
        "```"
      ]
    },
    {
      "cell_type": "code",
      "execution_count": null,
      "id": "d585da6e",
      "metadata": {
        "id": "d585da6e"
      },
      "outputs": [],
      "source": [
        "# Silahkan dicoba disini\n",
        "\n"
      ]
    }
  ],
  "metadata": {
    "colab": {
      "collapsed_sections": [],
      "provenance": [],
      "toc_visible": true
    },
    "kernelspec": {
      "display_name": "Python 3 (ipykernel)",
      "language": "python",
      "name": "python3"
    },
    "language_info": {
      "codemirror_mode": {
        "name": "ipython",
        "version": 3
      },
      "file_extension": ".py",
      "mimetype": "text/x-python",
      "name": "python",
      "nbconvert_exporter": "python",
      "pygments_lexer": "ipython3",
      "version": "3.8.12"
    },
    "toc": {
      "base_numbering": 1,
      "nav_menu": {},
      "number_sections": true,
      "sideBar": true,
      "skip_h1_title": false,
      "title_cell": "Table of Contents",
      "title_sidebar": "Contents",
      "toc_cell": false,
      "toc_position": {},
      "toc_section_display": true,
      "toc_window_display": true
    }
  },
  "nbformat": 4,
  "nbformat_minor": 5
}
