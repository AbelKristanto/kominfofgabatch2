{
  "cells": [
    {
      "cell_type": "markdown",
      "id": "HRci43FBwIzw",
      "metadata": {
        "id": "HRci43FBwIzw"
      },
      "source": [
        "[12/09/2022] **Penulisan ini diupdate** - Pembaruan isi dokumen dan materi pembelajaran."
      ]
    },
    {
      "cell_type": "markdown",
      "id": "e29af069",
      "metadata": {
        "id": "e29af069"
      },
      "source": [
        "## **BAGIAN 2: Struktur Kontrol dan Percabangan di Python**\n",
        "\n",
        "Di dalam bahasa pemrograman, pengambilan keputusan dapat menerapakan konsep **IF - ELSE**. Penjelasan sederhana tentang konsep tersebut:\n",
        "1. Menggunakan IF yang dapat dianalogikan dengan \"**Jika sesuatu memenuhi suatu kondisi maka lakukanlah A, namun jika tidak maka tidak terjadi apa-apa**\".\n",
        "2. Menggunakan IF dan ELSE yang dapat direpresentasikan dengan \"**Jika sesuatu memenuhi suatu kondisi maka lakukanlah A, namun jika tidak terpenuhi maka lakukanlah B**\".\n",
        "3. Menggunakan IF, ELIF dan ELSE. ELIF merupakan singkatan dari ELSE IF di python. Penerapan konstruksi IF, ELIF dan ELSE ini dapat dianalogikan dengan \"**Jika sesuatu memenuhi suatu kondisi maka lakukanlah A, jika tidak, lakukanlah pengecekan pada kondisi berikutnya yaitu jika memenuhi lakukanlah B, jika tidak maka lakukanlah C**\".\n",
        "\n",
        "Catatan. Perhatikan **Identasi dalam penulisan percabangan**."
      ]
    },
    {
      "cell_type": "markdown",
      "id": "yTXgHc8V2P7L",
      "metadata": {
        "id": "yTXgHc8V2P7L"
      },
      "source": [
        "Sebelumnya, simak terkait **comparison operators** berikut ini.\n",
        "\n",
        "![image.png](data:image/png;base64,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)"
      ]
    },
    {
      "cell_type": "markdown",
      "id": "FUsENVDp2hRu",
      "metadata": {
        "id": "FUsENVDp2hRu"
      },
      "source": [
        "Dimana hasil dari comparison operatos adalah boolean (True or False)\n",
        "\n",
        "Contoh:\n",
        "\n",
        "```python\n",
        "A = 10; B = 5\n",
        "print(A == B)\n",
        "print(B != B)\n",
        "print(A > B)\n",
        "print(B <= A)\n",
        "```\n",
        "\n"
      ]
    },
    {
      "cell_type": "code",
      "execution_count": null,
      "id": "QYHArOzh2fsX",
      "metadata": {
        "id": "QYHArOzh2fsX"
      },
      "outputs": [],
      "source": [
        "# Silahkan dicoba disini\n",
        "\n"
      ]
    },
    {
      "cell_type": "markdown",
      "id": "igxiIqxl36i1",
      "metadata": {
        "id": "igxiIqxl36i1"
      },
      "source": [
        "Mari juga kita mengenal **boolean operators** sebagai berikut ini.\n",
        "\n",
        "![image.png](data:image/png;base64,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)"
      ]
    },
    {
      "cell_type": "markdown",
      "id": "-Rp66FyM4Fxs",
      "metadata": {
        "id": "-Rp66FyM4Fxs"
      },
      "source": [
        "Dimana hasil dari comparison operatos adalah boolean (True or False)\n",
        "\n",
        "Contoh:\n",
        "\n",
        "```python\n",
        "A = 10; B = 5\n",
        "print(A == B or B != B)\n",
        "print(B != B and A != A)\n",
        "print(not(A > B and B < A))\n",
        "```"
      ]
    },
    {
      "cell_type": "code",
      "execution_count": null,
      "id": "5XqILT_P4RmW",
      "metadata": {
        "id": "5XqILT_P4RmW"
      },
      "outputs": [],
      "source": [
        "# Silahkan dicoba disini\n",
        "\n"
      ]
    },
    {
      "cell_type": "markdown",
      "id": "1adc547d",
      "metadata": {
        "id": "1adc547d"
      },
      "source": [
        "**IF Statement**\n",
        "\n",
        "Penggunaan IF sebenarnya adalah sebuah statement untuk menentukan **keputusan mana yang akan diambil apabila suatu kondisi terpenuhi**.\n",
        "\n",
        "Perhatikan berikut ini:\n",
        "\n",
        "```python\n",
        "i = 20 #inisialisasi variabel i yang memiliki nilai 7\n",
        "\n",
        "if(i%2 == 0): #pengecekan nilai i apakah genap?\n",
        "\tprint(\"ini adalah angka genap\") #jika TRUE maka akan mencetak kalimat ini\n",
        "```"
      ]
    },
    {
      "cell_type": "code",
      "execution_count": null,
      "id": "f6083da1",
      "metadata": {
        "id": "f6083da1"
      },
      "outputs": [],
      "source": [
        "# Silahkan dicoba disini\n",
        "\n"
      ]
    },
    {
      "cell_type": "markdown",
      "id": "cdc61131",
      "metadata": {
        "id": "cdc61131"
      },
      "source": [
        "**IF ELSE STATEMENT**\n",
        "\n",
        "Penggunaan IF ELSE sebenarnya adalah sebuah statement untuk **menentukan dua kondisi apabila terpenuhi dan tidak terpenuhi**.\n",
        "\n",
        "Perhatikan berikut ini:\n",
        "\n",
        "```python\n",
        "i = 5 #inisialisasi variable i yang memiliki nilai 5\n",
        "\n",
        "if(i%2 == 0): #pengecekan nilai i, apakah sama dengan angka genap?\n",
        "\tprint(\"ini adalah angka genap\") #jika TRUE akan mencetak kalimat ini\n",
        "else:\n",
        "\tprint(\"angka ganjil\") #jika FALSE akan mencetak kalimat ini\n",
        "```"
      ]
    },
    {
      "cell_type": "code",
      "execution_count": null,
      "id": "939611c3",
      "metadata": {
        "id": "939611c3"
      },
      "outputs": [],
      "source": [
        "# Silahkan dicoba disini\n",
        "\n"
      ]
    },
    {
      "cell_type": "markdown",
      "id": "390bec2f",
      "metadata": {
        "id": "390bec2f"
      },
      "source": [
        "**IF ELIF ELSE STATEMENT**\n",
        "\n",
        "Penggunaan IF ELIF ELSE sebenarnya adalah sebuah statement untuk menentukan **beragam kondisi apabila terpenuhi dan tidak terpenuhi**.\n",
        "\n",
        "Perhatikan berikut ini:\n",
        "\n",
        "```python\n",
        "i=10 #inilisiasi i sama dengan 10\n",
        "\n",
        "if(i==5): #pengecekan data\n",
        "\tprint(\"ini adalah angka 5\") #jika TRUE akan menampilkan kalimat ini\n",
        "elif(i>5): #pengecekan ulang\n",
        "\tprint(\"lebih besar dari 5\") #jika TRUE akan menampilkan kalimat ini\n",
        "else:\n",
        "\tprint(\"lebih kecil dari 5\") #jika FALSE akan menampilkan kalimat ini\n",
        "```"
      ]
    },
    {
      "cell_type": "code",
      "execution_count": null,
      "id": "0cd86fd4",
      "metadata": {
        "id": "0cd86fd4"
      },
      "outputs": [],
      "source": [
        "# Silahkan dicoba disini\n",
        "\n"
      ]
    },
    {
      "cell_type": "markdown",
      "id": "24b33269",
      "metadata": {
        "id": "24b33269"
      },
      "source": [
        "**NESTED IF STATEMENT**\n",
        "\n",
        "Penggunaan NESTED IF sebenarnya adalah sebuah statement untuk menentukan **beragam kondisi yang bersarang**. Misal if ( i<7 && i <3) dapat dituliskan sebagai dibawah ini.\n",
        "\n",
        "Perhatikan berikut ini:\n",
        "\n",
        "```python\n",
        "i=int(input())\n",
        "if(i<7): #pengecekan data tahapan 1\n",
        "\tprint(\"nilai i kurang dari 7\") #jika TRUE menampilkan tulisan ini\n",
        "\tif (i<3): #pengecekan data tahapan 2\n",
        "\t\t\tprint(\"nilai i kurang dari 7 dan kurang dari 3\") #jika True menampilkan tulisan ini\n",
        "\telse:\n",
        "\t\t\tprint(\"nilai i kurang dari 7 tapi lebih dari 3\") #jika False menampilkan tulisan ini\n",
        "```"
      ]
    },
    {
      "cell_type": "code",
      "execution_count": null,
      "id": "abbb4721",
      "metadata": {
        "id": "abbb4721"
      },
      "outputs": [],
      "source": [
        "# Silahkan dicoba disini\n",
        "\n"
      ]
    }
  ],
  "metadata": {
    "colab": {
      "collapsed_sections": [],
      "provenance": [],
      "toc_visible": true
    },
    "kernelspec": {
      "display_name": "Python 3 (ipykernel)",
      "language": "python",
      "name": "python3"
    },
    "language_info": {
      "codemirror_mode": {
        "name": "ipython",
        "version": 3
      },
      "file_extension": ".py",
      "mimetype": "text/x-python",
      "name": "python",
      "nbconvert_exporter": "python",
      "pygments_lexer": "ipython3",
      "version": "3.8.12"
    },
    "toc": {
      "base_numbering": 1,
      "nav_menu": {},
      "number_sections": true,
      "sideBar": true,
      "skip_h1_title": false,
      "title_cell": "Table of Contents",
      "title_sidebar": "Contents",
      "toc_cell": false,
      "toc_position": {},
      "toc_section_display": true,
      "toc_window_display": true
    }
  },
  "nbformat": 4,
  "nbformat_minor": 5
}
