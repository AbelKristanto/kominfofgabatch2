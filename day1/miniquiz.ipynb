{
  "cells": [
    {
      "cell_type": "markdown",
      "id": "HRci43FBwIzw",
      "metadata": {
        "id": "HRci43FBwIzw"
      },
      "source": [
        "[12/09/2022] **Penulisan ini diupdate** - Pembaruan isi dokumen dan materi pembelajaran."
      ]
    },
    {
      "cell_type": "markdown",
      "id": "2YA-PIl-EeXw",
      "metadata": {
        "id": "2YA-PIl-EeXw"
      },
      "source": [
        "## **BAGIAN 9: MINI KUIS**\n",
        "\n",
        "Silahkan membuat analisa berdasarkan data berikut ini.\n",
        "\n",
        "```python\n",
        "import seaborn as sns\n",
        "# melihat list dataset\n",
        "# sns.get_dataset_names()\n",
        "# gunakan dataset 'tips'\n",
        "df = sns.load_dataset('tips')\n",
        "df.head()\n",
        "```\n",
        "![image.png](data:image/png;base64,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)\n"
      ]
    },
    {
      "cell_type": "markdown",
      "id": "0J-xIGJcKWCr",
      "metadata": {
        "id": "0J-xIGJcKWCr"
      },
      "source": [
        "1. Siapakah gender dengan transaksi terbesar?\n",
        "2. Siapakah gender dengan pemberian tip terbanyak\n",
        "3. Kapankah transaksi terbanyak terjadi?\n",
        "4. Apakah perokok mempengaruhi pemberian tips?\n",
        "\n",
        "Silahkan dibuat dalam grafik"
      ]
    },
    {
      "cell_type": "code",
      "execution_count": null,
      "id": "R6F9Osr1K0k8",
      "metadata": {
        "id": "R6F9Osr1K0k8"
      },
      "outputs": [],
      "source": [
        "# Silahkan dicoba disini\n",
        "\n"
      ]
    }
  ],
  "metadata": {
    "colab": {
      "collapsed_sections": [],
      "provenance": [],
      "toc_visible": true
    },
    "kernelspec": {
      "display_name": "Python 3 (ipykernel)",
      "language": "python",
      "name": "python3"
    },
    "language_info": {
      "codemirror_mode": {
        "name": "ipython",
        "version": 3
      },
      "file_extension": ".py",
      "mimetype": "text/x-python",
      "name": "python",
      "nbconvert_exporter": "python",
      "pygments_lexer": "ipython3",
      "version": "3.8.12"
    },
    "toc": {
      "base_numbering": 1,
      "nav_menu": {},
      "number_sections": true,
      "sideBar": true,
      "skip_h1_title": false,
      "title_cell": "Table of Contents",
      "title_sidebar": "Contents",
      "toc_cell": false,
      "toc_position": {},
      "toc_section_display": true,
      "toc_window_display": true
    }
  },
  "nbformat": 4,
  "nbformat_minor": 5
}
