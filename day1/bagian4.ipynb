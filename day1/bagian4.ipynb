{
  "cells": [
    {
      "cell_type": "markdown",
      "id": "HRci43FBwIzw",
      "metadata": {
        "id": "HRci43FBwIzw"
      },
      "source": [
        "[12/09/2022] **Penulisan ini diupdate** - Pembaruan isi dokumen dan materi pembelajaran."
      ]
    },
    {
      "cell_type": "markdown",
      "id": "bdeb323b",
      "metadata": {
        "id": "bdeb323b"
      },
      "source": [
        "## **BAGIAN 4: Perulangan**\n",
        "\n",
        "Perulangan atau looping merupakan **salah satu elemen berguna untuk melakukan iterasi**, karena pada dasarnya hanya 1 saja iterasi terjadi tanpa loop.\n",
        "\n",
        "Ambil contoh, seandainya kita harus memproses 500x eksekusi code. Tentu akan menghabiskan waktu bila kita harus menulis ulang kode tersebut sebanyak 500x juga, bukan?. \n",
        "\n",
        "Hal tersebut **tidak bersifat scalable, efisiensi akan mempengaruhi performa dari program yang kita buat**. "
      ]
    },
    {
      "cell_type": "markdown",
      "id": "727aa3c4",
      "metadata": {
        "id": "727aa3c4"
      },
      "source": [
        "**WHILE** (Berjalan selama TRUE)\n",
        "\n",
        "Perulangan dengan kriteria tertentu selama terpenuhi, perhatikan berikut ini:\n",
        "\n",
        "```python\n",
        "error = 50\n",
        "\n",
        "while error > 1:\n",
        "\tprint(\"Hasil error sebesar\", error)\n",
        "\tprint(\"...Pembaruan modelling...\")\n",
        "\terror = error/4 #lakukan kalkulasi setiap akhir episode\n",
        "\n",
        "print(\"Selamat!!\")\n",
        "print(\"Error sudah kecil\")\n",
        "```"
      ]
    },
    {
      "cell_type": "code",
      "execution_count": null,
      "id": "a2ded4a8",
      "metadata": {
        "id": "a2ded4a8"
      },
      "outputs": [],
      "source": [
        "# Silahkan dicoba disini\n",
        "\n"
      ]
    },
    {
      "cell_type": "markdown",
      "id": "ed482f2a",
      "metadata": {
        "id": "ed482f2a"
      },
      "source": [
        "**FOR** (Akan berjalan selama ada sequence)\n",
        "\n",
        "Perulangan dengan range tertentu selama terpenuhi tanpa harus melakukan inisialisasi, perhatikan berikut ini:\n",
        "\n",
        "```python\n",
        "data = [10,20,30,40,50]\n",
        "for index, val in enumerate(data):\n",
        "    print(\"ini merupakan index ke-\"+ str(index) + \" dengan nilai \" + str(val))\n",
        "```"
      ]
    },
    {
      "cell_type": "code",
      "execution_count": null,
      "id": "ad3e344c",
      "metadata": {
        "id": "ad3e344c"
      },
      "outputs": [],
      "source": [
        "# Silahkan dicoba disini\n",
        "\n"
      ]
    },
    {
      "cell_type": "markdown",
      "id": "f5aa1da9",
      "metadata": {
        "id": "f5aa1da9"
      },
      "source": [
        "Coba berikut ini:\n",
        "\n",
        "```python\n",
        "for i in range (1,14): #inisialisasi data dari 1 sampai dengan kurang dari 14\n",
        "  if(i%2==0): #pengecekan persamaan yang dibuat\n",
        "    print(i, \" adalah angka genap\") #jika TRUE, menampilkan data ini  \n",
        "  else:\n",
        "    print(i, \" adalah angka ganjil\") #jika FALSE, menampilkan data ini\n",
        "```"
      ]
    },
    {
      "cell_type": "code",
      "execution_count": null,
      "id": "3775a3c7",
      "metadata": {
        "id": "3775a3c7"
      },
      "outputs": [],
      "source": [
        "# Silahkan dicoba disini\n",
        "\n"
      ]
    }
  ],
  "metadata": {
    "colab": {
      "collapsed_sections": [],
      "provenance": [],
      "toc_visible": true
    },
    "kernelspec": {
      "display_name": "Python 3 (ipykernel)",
      "language": "python",
      "name": "python3"
    },
    "language_info": {
      "codemirror_mode": {
        "name": "ipython",
        "version": 3
      },
      "file_extension": ".py",
      "mimetype": "text/x-python",
      "name": "python",
      "nbconvert_exporter": "python",
      "pygments_lexer": "ipython3",
      "version": "3.8.12"
    },
    "toc": {
      "base_numbering": 1,
      "nav_menu": {},
      "number_sections": true,
      "sideBar": true,
      "skip_h1_title": false,
      "title_cell": "Table of Contents",
      "title_sidebar": "Contents",
      "toc_cell": false,
      "toc_position": {},
      "toc_section_display": true,
      "toc_window_display": true
    }
  },
  "nbformat": 4,
  "nbformat_minor": 5
}
