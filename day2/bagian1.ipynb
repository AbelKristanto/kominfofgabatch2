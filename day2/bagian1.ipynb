{
  "cells": [
    {
      "cell_type": "markdown",
      "id": "e4OvUrmEVcrv",
      "metadata": {
        "id": "e4OvUrmEVcrv"
      },
      "source": [
        "[12/09/2022] **Penulisan ini diupdate** - Pembaruan isi dokumen dan materi pembelajaran."
      ]
    },
    {
      "cell_type": "markdown",
      "id": "6f596d4a",
      "metadata": {
        "id": "6f596d4a"
      },
      "source": [
        "## **BAGIAN 1: Structured Query Language**\n"
      ]
    },
    {
      "cell_type": "markdown",
      "id": "4XnC0Pdex-J7",
      "metadata": {
        "id": "4XnC0Pdex-J7"
      },
      "source": [
        "Ketahui bedanya!\n",
        "\n",
        "1. **Data terstruktur (structured)** adalah data yang berada dalam satu tempat baik berbentuk sebuah file termasuk data yang berada dalam database maupun spreadsheet. Data terstruktur dapat diakses databasenya dengan dengan **Structured Query Languange**. Contohnya adalah data CRM, data penjualan produk selama 5 tahun terakhir dan lain sebagainya. \n",
        "\n",
        "2. **Data tidak terstruktur (unstructured)** adalah data yang tidak mudah diklasifikasi dan dimasukan kedalam sebuah kesatuan. Contohnya adalah foto, gambar, webpages, PDF, Power Point, konten blog dan lain sebagainya."
      ]
    },
    {
      "cell_type": "markdown",
      "id": "e87ef50a",
      "metadata": {
        "id": "e87ef50a"
      },
      "source": [
        "Apa itu SQL?\n",
        "\n",
        "SQL (Structured Query Language) merupakan bahasa **pemograman untuk pengolahan database** untuk berinteraksi dengan suatu sistem database - atau lebih tepatnya sistem manajemen database relasional. Pengguna dapat **menambahkan**, **mengubah**, **mengupdate**, **mencari** dan **menghapus** data dari suatu sistem database dengan menggunakan SQL.\n",
        "\n",
        "Ada **dua jenis kategori** dari interaksi SQL:\n",
        "1. Data **Definition Language** (DDL): artinya disini membuat (CREATE), mengubah (ALTER), menghapus(DROP)\n",
        "2. Data **Manipulation Languag**e (DML): artinya disini menyisipkan (INSERT), mengambil data (SELECT), mengubah isi data (UPDATE), menghapus data (DELETE).\n",
        "\n",
        "Contoh penerapan sebagai berikut ini:\n",
        "\n",
        "```sql\n",
        "SELECT name_column FROM name_table\n",
        "```\n",
        "\n",
        "Lalu, **alasan kita mempelajari SQL**?\n",
        "\n",
        "1. Kebanyakan perusahaan menyimpan data mereka kedalam database, karena pertimbangan size yang besar,\n",
        "2. Efisien dalam pengelolaan informasi perusahaan termasuk dalam pengambilan keputusan perusahaan.\n",
        "\n",
        "SQL mengakses data di dalam **Database Management System** (DBMS) yang berisikan jutaan informasi yang dapat digunakan sebagai keputusan perusahaan. Lebih lanjut, DBMS yang dapat diakses oleh SQL adalah sistem database berbasis **Relational Database Management System (RDMS)**."
      ]
    }
  ],
  "metadata": {
    "colab": {
      "collapsed_sections": [],
      "provenance": [],
      "toc_visible": true
    },
    "kernelspec": {
      "display_name": "Python 3 (ipykernel)",
      "language": "python",
      "name": "python3"
    },
    "language_info": {
      "codemirror_mode": {
        "name": "ipython",
        "version": 3
      },
      "file_extension": ".py",
      "mimetype": "text/x-python",
      "name": "python",
      "nbconvert_exporter": "python",
      "pygments_lexer": "ipython3",
      "version": "3.8.12"
    },
    "toc": {
      "base_numbering": 1,
      "nav_menu": {},
      "number_sections": true,
      "sideBar": true,
      "skip_h1_title": false,
      "title_cell": "Table of Contents",
      "title_sidebar": "Contents",
      "toc_cell": false,
      "toc_position": {},
      "toc_section_display": true,
      "toc_window_display": false
    }
  },
  "nbformat": 4,
  "nbformat_minor": 5
}
