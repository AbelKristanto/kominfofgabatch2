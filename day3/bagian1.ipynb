{
  "cells": [
    {
      "cell_type": "markdown",
      "source": [
        "[12/09/2022] **Penulisan ini diupdate** - Pembaruan isi dokumen dan materi pembelajaran."
      ],
      "metadata": {
        "id": "aSjd8PO477mq"
      }
    },
    {
      "cell_type": "markdown",
      "metadata": {
        "id": "5IjYFU6ec06o"
      },
      "source": [
        "## **BAGIAN 1: Python Session**\n",
        "\n",
        "Ini merupakan pembelajaran untuk materi python, selamat mengerjakan! "
      ]
    },
    {
      "cell_type": "markdown",
      "metadata": {
        "id": "7KjkK_5SewPT"
      },
      "source": [
        "**STUDI KASUS 1: Ucapkan Selamat Pagi di Toko**\n",
        "\n",
        "Kamu merupakan kepala divisi produk melakukan pengujian produk, kamu ingin membuat aplikasi yang bertuliskan \n",
        "\n",
        "```python\n",
        "\"Selamat datang [...nama guest yang datang..], di Laboratorium Pondok Indah\"\n",
        "\"Selamat belanja, dan tanya kami jika kamu butuh pertanyaan\"\n",
        "```\n",
        "\n",
        "Hal ini dimaksudkan agar Laboratorium ramah terhadap pengunjung yang datang.\n",
        "\n",
        "Catatan: **Kamu diperkenankan menggunakan apa saja dalam tools python.**"
      ]
    },
    {
      "cell_type": "code",
      "source": [
        "# Silahkan dicoba disini\n",
        "\n",
        "\n",
        "\n"
      ],
      "metadata": {
        "id": "NGtuynqae4na"
      },
      "execution_count": null,
      "outputs": []
    },
    {
      "cell_type": "markdown",
      "source": [
        "**STUDI KASUS 2: Tampilkan Produk Valid dan Tidak**\n",
        "\n",
        "Setelah kamu membuat pemberitahuan seperti pada kasus 1, selanjutnya kamu mendapatkan konfirmasi dari tim laboratorium bahwa ada kegagalan identifikasi produk yang valid dan tidak valid. \n",
        "\n",
        "Kamu diminta untuk memecahkan masalah bahwa setiap 100 produk pertama yang diinput secara acak dalam angka akan dikatakan sebagai produk valid dalam pengujian, sedangkan angka lainnya tidak valid.\n",
        "\n",
        "Mohon diingat bahwa inputan perlu diwajibkan dalam bentuk cacah, selain itu akan dinyatakan tidak valid.\n",
        "\n",
        "Hasil besutanmu tersebut akan disampaikan kepada pihak departemen.\n",
        "\n",
        "Catatan: **Kamu diperkenankan menggunakan apa saja dalam tools python.**"
      ],
      "metadata": {
        "id": "T2q6gLXqe8Xv"
      }
    },
    {
      "cell_type": "code",
      "source": [
        "# Silahkan dicoba disini\n",
        "\n",
        "\n",
        "\n"
      ],
      "metadata": {
        "id": "lqqaHID_BKgh"
      },
      "execution_count": null,
      "outputs": []
    },
    {
      "cell_type": "markdown",
      "source": [
        "**STUDI KASUS 3: Tampilkan Produk Lolos Uji**\n",
        "\n",
        "Setelah kamu telah menyelesaikan masalah diatas, namun ada tambahan dan catatan dari laboratorium terkait produk lolos uji dengan dari 100 produk N yang diperiksa:\n",
        "\n",
        "1. Jika N adalah genap, beritahu asisten \"EXPORT\"\n",
        "2. Jika N adalah genap dan dalam kisaran inklusif dari 2 hingga 5, beritahu asisten \"IMPORT\"\n",
        "3. Jika N genap dan dalam kisaran inklusif dari 6 hingga 20, beritahu asisten \"EXPORT\"\n",
        "4. Jika N genap dan lebih besar dari 20, beritahu asisten \"IMPORT\" \n",
        "\n",
        "Silahkan rekap jumlah produk yang IMPORT dan EXPORT secara terpisah. Hasil besutanmu tersebut akan disampaikan kepada pihak eksportir.\n",
        "\n",
        "Catatan: **Kamu diperkenankan menggunakan apa saja dalam tools python.**"
      ],
      "metadata": {
        "id": "gWl8EFFnmR6Q"
      }
    },
    {
      "cell_type": "code",
      "execution_count": null,
      "metadata": {
        "id": "2rLHE_pdevl6"
      },
      "outputs": [],
      "source": [
        "# Silahkan dicoba disini\n",
        "\n",
        "\n",
        "\n"
      ]
    },
    {
      "cell_type": "markdown",
      "source": [
        "**STUDI KASUS 4: Menghitung pendapatan eksport**\n",
        "\n",
        "Setelah kamu telah menyelesaikan masalah diatas, kamu akan mencoba melakukan perhitungan pendapatan export dimana setiap frekuensi total export mendapatkan keuntungan sebesar Rp 100.000 dan biaya admin perbankan sebesar Rp 2.500. Berapa total pendapatan yang diterima Laboratorium Pondok Indah?\n",
        "\n",
        "Catatan: **Kamu diperkenankan menggunakan apa saja dalam tools python.**"
      ],
      "metadata": {
        "id": "-9gNc3tCptjB"
      }
    },
    {
      "cell_type": "code",
      "execution_count": null,
      "metadata": {
        "id": "eUcFuAPxlDJ1"
      },
      "outputs": [],
      "source": [
        "# Silahkan dicoba disini\n",
        "\n",
        "\n",
        "\n"
      ]
    },
    {
      "cell_type": "markdown",
      "source": [
        "**STUDI KASUS 5: Finalisasi**\n",
        "\n",
        "Pihak manajemen bertanya kepadamu, \"Apakah bisa menampilkan grafik pendapatan eksport dimana ada sampel acak didalam 1000 percobaan?\" Kamu diharapkan membuat aplikasi sederhana dalam bentuk fungsi.\n",
        "\n",
        "Catatan: **Kamu diperkenankan menggunakan apa saja dalam tools python.**"
      ],
      "metadata": {
        "id": "KqmsmrLNwpOL"
      }
    },
    {
      "cell_type": "code",
      "source": [
        "# Silahkan dicoba disini\n",
        "\n",
        "\n",
        "\n"
      ],
      "metadata": {
        "id": "v1SLX3HOwtYW"
      },
      "execution_count": null,
      "outputs": []
    }
  ],
  "metadata": {
    "colab": {
      "provenance": [],
      "collapsed_sections": [],
      "toc_visible": true
    },
    "kernelspec": {
      "display_name": "Python 3",
      "name": "python3"
    },
    "language_info": {
      "name": "python"
    }
  },
  "nbformat": 4,
  "nbformat_minor": 0
}