{
  "cells": [
    {
      "cell_type": "markdown",
      "metadata": {
        "id": "aSjd8PO477mq"
      },
      "source": [
        "[12/09/2022] **Penulisan ini diupdate** - Pembaruan isi dokumen dan materi pembelajaran."
      ]
    },
    {
      "cell_type": "markdown",
      "metadata": {
        "id": "Lb4r6yeJhwBy"
      },
      "source": [
        "## **BAGIAN 3: EDA Session**\n",
        "\n",
        "Ini merupakan pembelajaran untuk materi eda, selamat mengerjakan! \n",
        "\n",
        "Pengenalan dataset:\n",
        "\n",
        "Kamu akan melakukan analisa transaksi belanja di Supermarket Tenja bekerja. Tenja memberitahumu terkait 1 hari transaksi disupermarket tersebut. Kamu diminta bantuan oleh Tenja untuk melakukan pengalian informasi dari dataset yang diberikan oleh Tenja untuk menjadi bahan pertimbangan manajemen perihal \"Apakah akan melakukan ekspansi produk atau tidak\".\n",
        "\n",
        "Adapun penjelasan dari Tenja sebagai berikut:\n",
        "1. CustomerID: Merupakan ID unik yang melakukan ke customer\n",
        "2. Gender: Merupakan jenis kelamin customer\n",
        "3. Age: Merupakan usia customer\n",
        "4. Annual Income: Merupakan pengeluaran customer dalam setahun dengan satuan juta dollar\n",
        "5. Spending Score: Merupakan index loyalitas customer ke Supermarket Tenja\n",
        "\n",
        "Lakukan proses pemanggilan data sebagai berikut ini:\n",
        "\n",
        "```python\n",
        "shopping_data = pd.read_csv(\"https://storage.googleapis.com/dqlab-dataset/shopping_data_missingvalue.csv\")\n",
        "shopping_data.head(3)\n",
        "```\n",
        "\n"
      ]
    },
    {
      "cell_type": "markdown",
      "metadata": {
        "id": "cw5qeg6evC79"
      },
      "source": [
        "**Hitung Secara Statistik**\n",
        "\n",
        "Silahkan kamu melakukan proses perhitungan statistik dari data yang dimiliki tersebut! (Kamu boleh melakukan modifikasi sesukamu)\n",
        "\n",
        "<!--\n",
        "shopping_data['Genre'] = shopping_data['Genre'].replace(['Male','Female'],[1,0])\n",
        "-->"
      ]
    },
    {
      "cell_type": "code",
      "execution_count": null,
      "metadata": {
        "colab": {
          "base_uri": "https://localhost:8080/",
          "height": 143
        },
        "id": "h6LVih3at4vp",
        "outputId": "25e15edd-efea-4b1a-d1f4-5f2966c8075b"
      },
      "outputs": [
        {
          "data": {
            "text/html": [
              "\n",
              "  <div id=\"df-2aa9a68d-6864-42e4-9a66-38de36b704ff\">\n",
              "    <div class=\"colab-df-container\">\n",
              "      <div>\n",
              "<style scoped>\n",
              "    .dataframe tbody tr th:only-of-type {\n",
              "        vertical-align: middle;\n",
              "    }\n",
              "\n",
              "    .dataframe tbody tr th {\n",
              "        vertical-align: top;\n",
              "    }\n",
              "\n",
              "    .dataframe thead th {\n",
              "        text-align: right;\n",
              "    }\n",
              "</style>\n",
              "<table border=\"1\" class=\"dataframe\">\n",
              "  <thead>\n",
              "    <tr style=\"text-align: right;\">\n",
              "      <th></th>\n",
              "      <th>CustomerID</th>\n",
              "      <th>Genre</th>\n",
              "      <th>Age</th>\n",
              "      <th>Annual Income (k$)</th>\n",
              "      <th>Spending Score (1-100)</th>\n",
              "    </tr>\n",
              "  </thead>\n",
              "  <tbody>\n",
              "    <tr>\n",
              "      <th>0</th>\n",
              "      <td>1</td>\n",
              "      <td>1</td>\n",
              "      <td>19.0</td>\n",
              "      <td>15.0</td>\n",
              "      <td>39.0</td>\n",
              "    </tr>\n",
              "    <tr>\n",
              "      <th>1</th>\n",
              "      <td>2</td>\n",
              "      <td>1</td>\n",
              "      <td>NaN</td>\n",
              "      <td>15.0</td>\n",
              "      <td>81.0</td>\n",
              "    </tr>\n",
              "    <tr>\n",
              "      <th>2</th>\n",
              "      <td>3</td>\n",
              "      <td>0</td>\n",
              "      <td>20.0</td>\n",
              "      <td>NaN</td>\n",
              "      <td>6.0</td>\n",
              "    </tr>\n",
              "  </tbody>\n",
              "</table>\n",
              "</div>\n",
              "      <button class=\"colab-df-convert\" onclick=\"convertToInteractive('df-2aa9a68d-6864-42e4-9a66-38de36b704ff')\"\n",
              "              title=\"Convert this dataframe to an interactive table.\"\n",
              "              style=\"display:none;\">\n",
              "        \n",
              "  <svg xmlns=\"http://www.w3.org/2000/svg\" height=\"24px\"viewBox=\"0 0 24 24\"\n",
              "       width=\"24px\">\n",
              "    <path d=\"M0 0h24v24H0V0z\" fill=\"none\"/>\n",
              "    <path d=\"M18.56 5.44l.94 2.06.94-2.06 2.06-.94-2.06-.94-.94-2.06-.94 2.06-2.06.94zm-11 1L8.5 8.5l.94-2.06 2.06-.94-2.06-.94L8.5 2.5l-.94 2.06-2.06.94zm10 10l.94 2.06.94-2.06 2.06-.94-2.06-.94-.94-2.06-.94 2.06-2.06.94z\"/><path d=\"M17.41 7.96l-1.37-1.37c-.4-.4-.92-.59-1.43-.59-.52 0-1.04.2-1.43.59L10.3 9.45l-7.72 7.72c-.78.78-.78 2.05 0 2.83L4 21.41c.39.39.9.59 1.41.59.51 0 1.02-.2 1.41-.59l7.78-7.78 2.81-2.81c.8-.78.8-2.07 0-2.86zM5.41 20L4 18.59l7.72-7.72 1.47 1.35L5.41 20z\"/>\n",
              "  </svg>\n",
              "      </button>\n",
              "      \n",
              "  <style>\n",
              "    .colab-df-container {\n",
              "      display:flex;\n",
              "      flex-wrap:wrap;\n",
              "      gap: 12px;\n",
              "    }\n",
              "\n",
              "    .colab-df-convert {\n",
              "      background-color: #E8F0FE;\n",
              "      border: none;\n",
              "      border-radius: 50%;\n",
              "      cursor: pointer;\n",
              "      display: none;\n",
              "      fill: #1967D2;\n",
              "      height: 32px;\n",
              "      padding: 0 0 0 0;\n",
              "      width: 32px;\n",
              "    }\n",
              "\n",
              "    .colab-df-convert:hover {\n",
              "      background-color: #E2EBFA;\n",
              "      box-shadow: 0px 1px 2px rgba(60, 64, 67, 0.3), 0px 1px 3px 1px rgba(60, 64, 67, 0.15);\n",
              "      fill: #174EA6;\n",
              "    }\n",
              "\n",
              "    [theme=dark] .colab-df-convert {\n",
              "      background-color: #3B4455;\n",
              "      fill: #D2E3FC;\n",
              "    }\n",
              "\n",
              "    [theme=dark] .colab-df-convert:hover {\n",
              "      background-color: #434B5C;\n",
              "      box-shadow: 0px 1px 3px 1px rgba(0, 0, 0, 0.15);\n",
              "      filter: drop-shadow(0px 1px 2px rgba(0, 0, 0, 0.3));\n",
              "      fill: #FFFFFF;\n",
              "    }\n",
              "  </style>\n",
              "\n",
              "      <script>\n",
              "        const buttonEl =\n",
              "          document.querySelector('#df-2aa9a68d-6864-42e4-9a66-38de36b704ff button.colab-df-convert');\n",
              "        buttonEl.style.display =\n",
              "          google.colab.kernel.accessAllowed ? 'block' : 'none';\n",
              "\n",
              "        async function convertToInteractive(key) {\n",
              "          const element = document.querySelector('#df-2aa9a68d-6864-42e4-9a66-38de36b704ff');\n",
              "          const dataTable =\n",
              "            await google.colab.kernel.invokeFunction('convertToInteractive',\n",
              "                                                     [key], {});\n",
              "          if (!dataTable) return;\n",
              "\n",
              "          const docLinkHtml = 'Like what you see? Visit the ' +\n",
              "            '<a target=\"_blank\" href=https://colab.research.google.com/notebooks/data_table.ipynb>data table notebook</a>'\n",
              "            + ' to learn more about interactive tables.';\n",
              "          element.innerHTML = '';\n",
              "          dataTable['output_type'] = 'display_data';\n",
              "          await google.colab.output.renderOutput(dataTable, element);\n",
              "          const docLink = document.createElement('div');\n",
              "          docLink.innerHTML = docLinkHtml;\n",
              "          element.appendChild(docLink);\n",
              "        }\n",
              "      </script>\n",
              "    </div>\n",
              "  </div>\n",
              "  "
            ],
            "text/plain": [
              "   CustomerID  Genre   Age  Annual Income (k$)  Spending Score (1-100)\n",
              "0           1      1  19.0                15.0                    39.0\n",
              "1           2      1   NaN                15.0                    81.0\n",
              "2           3      0  20.0                 NaN                     6.0"
            ]
          },
          "execution_count": 18,
          "metadata": {},
          "output_type": "execute_result"
        }
      ],
      "source": [
        "shopping_data.head(3)"
      ]
    },
    {
      "cell_type": "code",
      "execution_count": null,
      "metadata": {
        "id": "xRIi_IhJvtDY"
      },
      "outputs": [],
      "source": [
        "# Bagaimana distribusi data dari segi statistik\n",
        "\n",
        "\n"
      ]
    },
    {
      "cell_type": "markdown",
      "metadata": {
        "id": "JlLVq9dXwKVA"
      },
      "source": [
        "**Pembuatan Histogram**\n",
        "\n",
        "Silahkan kamu melakukan proses pembuatan histogram sesuai kebutuhanmu!"
      ]
    },
    {
      "cell_type": "code",
      "execution_count": null,
      "metadata": {
        "colab": {
          "base_uri": "https://localhost:8080/",
          "height": 319
        },
        "id": "qVvK2ju1wTfC",
        "outputId": "4c4813a4-659c-42d4-bd8f-99c4bf083bb8"
      },
      "outputs": [
        {
          "data": {
            "image/png": "[encoded data removed]",
            "text/plain": [
              "<Figure size 288x360 with 1 Axes>"
            ]
          },
          "metadata": {
            "needs_background": "light"
          },
          "output_type": "display_data"
        }
      ],
      "source": [
        "import matplotlib.pyplot as plt\n",
        "shopping_data.Genre.hist(figsize=(4, 5), bins=2, xlabelsize=8, ylabelsize=8)\n",
        "plt.show()"
      ]
    },
    {
      "cell_type": "code",
      "execution_count": null,
      "metadata": {
        "id": "AEhfNNNswQmx"
      },
      "outputs": [],
      "source": [
        "# Bagaimana data lainnya\n",
        "\n"
      ]
    },
    {
      "cell_type": "markdown",
      "metadata": {
        "id": "oQWPpFn3wufg"
      },
      "source": [
        "**Penentuan Quantile**\n",
        "\n",
        "Silahkan kamu melakukan proses perhitungan quantile sesuai kebutuhanmu!"
      ]
    },
    {
      "cell_type": "code",
      "execution_count": null,
      "metadata": {
        "id": "y68L1KG7wy6y"
      },
      "outputs": [],
      "source": [
        "# Bagaimana caranya!\n",
        "\n"
      ]
    },
    {
      "cell_type": "markdown",
      "metadata": {
        "id": "9a1uVKakw4bU"
      },
      "source": [
        "**Tarik Kesimpulan Groupby**\n",
        "\n",
        "Silahkan kamu melakukan proses perhitungan groupby sesuai kebutuhanmu!"
      ]
    },
    {
      "cell_type": "code",
      "execution_count": null,
      "metadata": {
        "colab": {
          "base_uri": "https://localhost:8080/",
          "height": 269
        },
        "id": "0M4Np-3Lw81j",
        "outputId": "8713d0be-84ab-4f96-ff98-d8b47f67d730"
      },
      "outputs": [
        {
          "data": {
            "image/png": "[encoded data removed]",
            "text/plain": [
              "<Figure size 432x288 with 1 Axes>"
            ]
          },
          "metadata": {
            "needs_background": "light"
          },
          "output_type": "display_data"
        }
      ],
      "source": [
        "plt.bar([\"Male\", \"Female\"],shopping_data.groupby(\"Genre\")[\"Spending Score (1-100)\"].sum().values)\n",
        "plt.show()"
      ]
    },
    {
      "cell_type": "code",
      "execution_count": null,
      "metadata": {
        "id": "lU_L9mIZxZrS"
      },
      "outputs": [],
      "source": [
        "# Bagaimana data lainnya\n",
        "\n"
      ]
    }
  ],
  "metadata": {
    "colab": {
      "collapsed_sections": [],
      "provenance": [],
      "toc_visible": true
    },
    "kernelspec": {
      "display_name": "Python 3",
      "name": "python3"
    },
    "language_info": {
      "name": "python"
    }
  },
  "nbformat": 4,
  "nbformat_minor": 0
}
